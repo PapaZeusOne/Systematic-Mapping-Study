{
  "nbformat": 4,
  "nbformat_minor": 0,
  "metadata": {
    "colab": {
      "name": "Intelligente Systeme",
      "provenance": [],
      "collapsed_sections": [
        "lObqEr5obx-O"
      ],
      "authorship_tag": "ABX9TyNeX7VOqauzIE7n05KyRm74",
      "include_colab_link": true
    },
    "kernelspec": {
      "name": "python3",
      "display_name": "Python 3"
    }
  },
  "cells": [
    {
      "cell_type": "markdown",
      "metadata": {
        "id": "view-in-github",
        "colab_type": "text"
      },
      "source": [
        "<a href=\"https://colab.research.google.com/github/PapaZeusOne/Systematic-Mapping-Study/blob/main/Intelligente_Systeme.ipynb\" target=\"_parent\"><img src=\"https://colab.research.google.com/assets/colab-badge.svg\" alt=\"Open In Colab\"/></a>"
      ]
    },
    {
      "cell_type": "markdown",
      "metadata": {
        "id": "qcs2_I29bi24"
      },
      "source": [
        "# **Gather all relevant packages**"
      ]
    },
    {
      "cell_type": "code",
      "metadata": {
        "id": "FPUoTtPDUpOk"
      },
      "source": [
        "import pandas as pd\r\n",
        "import csv\r\n",
        "import matplotlib\r\n",
        "import matplotlib.pyplot as plt\r\n",
        "import numpy as np\r\n",
        "import plotly.graph_objects as go\r\n",
        "import spacy\r\n",
        "from pyate.term_extraction_pipeline import TermExtractionPipeline\r\n",
        "from csv import writer"
      ],
      "execution_count": 1,
      "outputs": []
    },
    {
      "cell_type": "markdown",
      "metadata": {
        "id": "-xbktzJja8u-"
      },
      "source": [
        "# **Clustering top 30 areas**"
      ]
    },
    {
      "cell_type": "code",
      "metadata": {
        "id": "JXWcMxB8lvPu"
      },
      "source": [
        "path = 'clustering - areas.csv'\r\n",
        "\r\n",
        "df = pd.read_csv(path, sep=';', encoding='unicode_escape')"
      ],
      "execution_count": 44,
      "outputs": []
    },
    {
      "cell_type": "code",
      "metadata": {
        "colab": {
          "base_uri": "https://localhost:8080/",
          "height": 959
        },
        "id": "3aDDD2ZlXLCY",
        "outputId": "66dcbb1d-d6fb-4f6c-d1ca-a5cef2c6253a"
      },
      "source": [
        "df['area'] = df['area'].str.lower()\r\n",
        "df['area'] = df.apply(lambda x: x.str.strip())\r\n",
        "df"
      ],
      "execution_count": 45,
      "outputs": [
        {
          "output_type": "execute_result",
          "data": {
            "text/html": [
              "<div>\n",
              "<style scoped>\n",
              "    .dataframe tbody tr th:only-of-type {\n",
              "        vertical-align: middle;\n",
              "    }\n",
              "\n",
              "    .dataframe tbody tr th {\n",
              "        vertical-align: top;\n",
              "    }\n",
              "\n",
              "    .dataframe thead th {\n",
              "        text-align: right;\n",
              "    }\n",
              "</style>\n",
              "<table border=\"1\" class=\"dataframe\">\n",
              "  <thead>\n",
              "    <tr style=\"text-align: right;\">\n",
              "      <th></th>\n",
              "      <th>area</th>\n",
              "    </tr>\n",
              "  </thead>\n",
              "  <tbody>\n",
              "    <tr>\n",
              "      <th>0</th>\n",
              "      <td>software engineering process</td>\n",
              "    </tr>\n",
              "    <tr>\n",
              "      <th>1</th>\n",
              "      <td>challenges</td>\n",
              "    </tr>\n",
              "    <tr>\n",
              "      <th>2</th>\n",
              "      <td>challenges</td>\n",
              "    </tr>\n",
              "    <tr>\n",
              "      <th>3</th>\n",
              "      <td>challenges</td>\n",
              "    </tr>\n",
              "    <tr>\n",
              "      <th>4</th>\n",
              "      <td>software engineering process</td>\n",
              "    </tr>\n",
              "    <tr>\n",
              "      <th>5</th>\n",
              "      <td>software engineering process</td>\n",
              "    </tr>\n",
              "    <tr>\n",
              "      <th>6</th>\n",
              "      <td>software engineering process</td>\n",
              "    </tr>\n",
              "    <tr>\n",
              "      <th>7</th>\n",
              "      <td>challenges</td>\n",
              "    </tr>\n",
              "    <tr>\n",
              "      <th>8</th>\n",
              "      <td>software engineering process</td>\n",
              "    </tr>\n",
              "    <tr>\n",
              "      <th>9</th>\n",
              "      <td>challenges</td>\n",
              "    </tr>\n",
              "    <tr>\n",
              "      <th>10</th>\n",
              "      <td>challenges</td>\n",
              "    </tr>\n",
              "    <tr>\n",
              "      <th>11</th>\n",
              "      <td>challenges</td>\n",
              "    </tr>\n",
              "    <tr>\n",
              "      <th>12</th>\n",
              "      <td>software engineering process</td>\n",
              "    </tr>\n",
              "    <tr>\n",
              "      <th>13</th>\n",
              "      <td>software engineering process</td>\n",
              "    </tr>\n",
              "    <tr>\n",
              "      <th>14</th>\n",
              "      <td>software testing</td>\n",
              "    </tr>\n",
              "    <tr>\n",
              "      <th>15</th>\n",
              "      <td>challenges</td>\n",
              "    </tr>\n",
              "    <tr>\n",
              "      <th>16</th>\n",
              "      <td>challenges</td>\n",
              "    </tr>\n",
              "    <tr>\n",
              "      <th>17</th>\n",
              "      <td>software design</td>\n",
              "    </tr>\n",
              "    <tr>\n",
              "      <th>18</th>\n",
              "      <td>software engineering process</td>\n",
              "    </tr>\n",
              "    <tr>\n",
              "      <th>19</th>\n",
              "      <td>software engineering process</td>\n",
              "    </tr>\n",
              "    <tr>\n",
              "      <th>20</th>\n",
              "      <td>software design</td>\n",
              "    </tr>\n",
              "    <tr>\n",
              "      <th>21</th>\n",
              "      <td>software engineering process</td>\n",
              "    </tr>\n",
              "    <tr>\n",
              "      <th>22</th>\n",
              "      <td>software testing</td>\n",
              "    </tr>\n",
              "    <tr>\n",
              "      <th>23</th>\n",
              "      <td>software construction</td>\n",
              "    </tr>\n",
              "    <tr>\n",
              "      <th>24</th>\n",
              "      <td>software testing</td>\n",
              "    </tr>\n",
              "    <tr>\n",
              "      <th>25</th>\n",
              "      <td>software testing</td>\n",
              "    </tr>\n",
              "    <tr>\n",
              "      <th>26</th>\n",
              "      <td>software engineering process</td>\n",
              "    </tr>\n",
              "    <tr>\n",
              "      <th>27</th>\n",
              "      <td>software testing</td>\n",
              "    </tr>\n",
              "    <tr>\n",
              "      <th>28</th>\n",
              "      <td>software engineering management</td>\n",
              "    </tr>\n",
              "    <tr>\n",
              "      <th>29</th>\n",
              "      <td>software testing</td>\n",
              "    </tr>\n",
              "  </tbody>\n",
              "</table>\n",
              "</div>"
            ],
            "text/plain": [
              "                               area\n",
              "0      software engineering process\n",
              "1                        challenges\n",
              "2                        challenges\n",
              "3                        challenges\n",
              "4      software engineering process\n",
              "5      software engineering process\n",
              "6      software engineering process\n",
              "7                        challenges\n",
              "8      software engineering process\n",
              "9                        challenges\n",
              "10                       challenges\n",
              "11                       challenges\n",
              "12     software engineering process\n",
              "13     software engineering process\n",
              "14                 software testing\n",
              "15                       challenges\n",
              "16                       challenges\n",
              "17                  software design\n",
              "18     software engineering process\n",
              "19     software engineering process\n",
              "20                  software design\n",
              "21     software engineering process\n",
              "22                 software testing\n",
              "23            software construction\n",
              "24                 software testing\n",
              "25                 software testing\n",
              "26     software engineering process\n",
              "27                 software testing\n",
              "28  software engineering management\n",
              "29                 software testing"
            ]
          },
          "metadata": {
            "tags": []
          },
          "execution_count": 45
        }
      ]
    },
    {
      "cell_type": "code",
      "metadata": {
        "colab": {
          "base_uri": "https://localhost:8080/",
          "height": 230
        },
        "id": "83BhCBwvZ8u0",
        "outputId": "863666b8-1a89-4d7c-8a3d-810fe8ff654c"
      },
      "source": [
        "counter = df.groupby(['area']).size().reset_index()\r\n",
        "counter.rename(columns = {0:'counter'}, inplace = True)\r\n",
        "counter"
      ],
      "execution_count": 50,
      "outputs": [
        {
          "output_type": "execute_result",
          "data": {
            "text/html": [
              "<div>\n",
              "<style scoped>\n",
              "    .dataframe tbody tr th:only-of-type {\n",
              "        vertical-align: middle;\n",
              "    }\n",
              "\n",
              "    .dataframe tbody tr th {\n",
              "        vertical-align: top;\n",
              "    }\n",
              "\n",
              "    .dataframe thead th {\n",
              "        text-align: right;\n",
              "    }\n",
              "</style>\n",
              "<table border=\"1\" class=\"dataframe\">\n",
              "  <thead>\n",
              "    <tr style=\"text-align: right;\">\n",
              "      <th></th>\n",
              "      <th>area</th>\n",
              "      <th>counter</th>\n",
              "    </tr>\n",
              "  </thead>\n",
              "  <tbody>\n",
              "    <tr>\n",
              "      <th>0</th>\n",
              "      <td>challenges</td>\n",
              "      <td>9</td>\n",
              "    </tr>\n",
              "    <tr>\n",
              "      <th>1</th>\n",
              "      <td>software construction</td>\n",
              "      <td>1</td>\n",
              "    </tr>\n",
              "    <tr>\n",
              "      <th>2</th>\n",
              "      <td>software design</td>\n",
              "      <td>2</td>\n",
              "    </tr>\n",
              "    <tr>\n",
              "      <th>3</th>\n",
              "      <td>software engineering management</td>\n",
              "      <td>1</td>\n",
              "    </tr>\n",
              "    <tr>\n",
              "      <th>4</th>\n",
              "      <td>software engineering process</td>\n",
              "      <td>11</td>\n",
              "    </tr>\n",
              "    <tr>\n",
              "      <th>5</th>\n",
              "      <td>software testing</td>\n",
              "      <td>6</td>\n",
              "    </tr>\n",
              "  </tbody>\n",
              "</table>\n",
              "</div>"
            ],
            "text/plain": [
              "                              area  counter\n",
              "0                       challenges        9\n",
              "1            software construction        1\n",
              "2                  software design        2\n",
              "3  software engineering management        1\n",
              "4     software engineering process       11\n",
              "5                 software testing        6"
            ]
          },
          "metadata": {
            "tags": []
          },
          "execution_count": 50
        }
      ]
    },
    {
      "cell_type": "code",
      "metadata": {
        "colab": {
          "base_uri": "https://localhost:8080/",
          "height": 265
        },
        "id": "hhu9jcz2c6FY",
        "outputId": "ce66afa7-e8fb-4395-e0c0-d6471e1ff8ef"
      },
      "source": [
        "fig = plt.figure()\r\n",
        "ax = plt.axes()\r\n",
        "\r\n",
        "ax.barh(counter.area, counter.counter, label='Number of references')\r\n",
        "plt.show()"
      ],
      "execution_count": 60,
      "outputs": [
        {
          "output_type": "display_data",
          "data": {
            "image/png": "[encoded data removed]",
            "text/plain": [
              "<Figure size 432x288 with 1 Axes>"
            ]
          },
          "metadata": {
            "tags": [],
            "needs_background": "light"
          }
        }
      ]
    },
    {
      "cell_type": "code",
      "metadata": {
        "id": "TWhfOaK_eWGD"
      },
      "source": [
        "fig.savefig(\"topics covered.png\")"
      ],
      "execution_count": 61,
      "outputs": []
    },
    {
      "cell_type": "markdown",
      "metadata": {
        "id": "lObqEr5obx-O"
      },
      "source": [
        "# **Grouping keywords generated with spaCy**"
      ]
    },
    {
      "cell_type": "code",
      "metadata": {
        "colab": {
          "base_uri": "https://localhost:8080/",
          "height": 411
        },
        "id": "6WR8DQpxZUrI",
        "outputId": "5f78863b-1297-4529-8f13-448bee85726c"
      },
      "source": [
        "path = 'Keyword - Grouping.csv'\r\n",
        "\r\n",
        "df = pd.read_csv(path, sep=';', encoding='unicode_escape')\r\n",
        "df"
      ],
      "execution_count": 18,
      "outputs": [
        {
          "output_type": "execute_result",
          "data": {
            "text/html": [
              "<div>\n",
              "<style scoped>\n",
              "    .dataframe tbody tr th:only-of-type {\n",
              "        vertical-align: middle;\n",
              "    }\n",
              "\n",
              "    .dataframe tbody tr th {\n",
              "        vertical-align: top;\n",
              "    }\n",
              "\n",
              "    .dataframe thead th {\n",
              "        text-align: right;\n",
              "    }\n",
              "</style>\n",
              "<table border=\"1\" class=\"dataframe\">\n",
              "  <thead>\n",
              "    <tr style=\"text-align: right;\">\n",
              "      <th></th>\n",
              "      <th>keyword1</th>\n",
              "      <th>keyword2</th>\n",
              "      <th>keyword3</th>\n",
              "      <th>keyword4</th>\n",
              "      <th>keyword5</th>\n",
              "      <th>score</th>\n",
              "    </tr>\n",
              "  </thead>\n",
              "  <tbody>\n",
              "    <tr>\n",
              "      <th>0</th>\n",
              "      <td>,\"software</td>\n",
              "      <td>engineering</td>\n",
              "      <td>NaN</td>\n",
              "      <td>NaN</td>\n",
              "      <td>NaN</td>\n",
              "      <td>3,636294</td>\n",
              "    </tr>\n",
              "    <tr>\n",
              "      <th>1</th>\n",
              "      <td>essential</td>\n",
              "      <td>engineering</td>\n",
              "      <td>NaN</td>\n",
              "      <td>NaN</td>\n",
              "      <td>NaN</td>\n",
              "      <td>2,943147</td>\n",
              "    </tr>\n",
              "    <tr>\n",
              "      <th>2</th>\n",
              "      <td>software</td>\n",
              "      <td>application</td>\n",
              "      <td>NaN</td>\n",
              "      <td>NaN</td>\n",
              "      <td>NaN</td>\n",
              "      <td>2,943147</td>\n",
              "    </tr>\n",
              "    <tr>\n",
              "      <th>3</th>\n",
              "      <td>engineering</td>\n",
              "      <td>challenges</td>\n",
              "      <td>NaN</td>\n",
              "      <td>NaN</td>\n",
              "      <td>NaN</td>\n",
              "      <td>2,193147</td>\n",
              "    </tr>\n",
              "    <tr>\n",
              "      <th>4</th>\n",
              "      <td>engineering</td>\n",
              "      <td>processes</td>\n",
              "      <td>NaN</td>\n",
              "      <td>NaN</td>\n",
              "      <td>NaN</td>\n",
              "      <td>2,193147</td>\n",
              "    </tr>\n",
              "    <tr>\n",
              "      <th>...</th>\n",
              "      <td>...</td>\n",
              "      <td>...</td>\n",
              "      <td>...</td>\n",
              "      <td>...</td>\n",
              "      <td>...</td>\n",
              "      <td>...</td>\n",
              "    </tr>\n",
              "    <tr>\n",
              "      <th>954</th>\n",
              "      <td>Recent</td>\n",
              "      <td>Discussions</td>\n",
              "      <td>NaN</td>\n",
              "      <td>NaN</td>\n",
              "      <td>NaN</td>\n",
              "      <td>0,693147</td>\n",
              "    </tr>\n",
              "    <tr>\n",
              "      <th>955</th>\n",
              "      <td>first</td>\n",
              "      <td>time</td>\n",
              "      <td>NaN</td>\n",
              "      <td>NaN</td>\n",
              "      <td>NaN</td>\n",
              "      <td>0,693147</td>\n",
              "    </tr>\n",
              "    <tr>\n",
              "      <th>956</th>\n",
              "      <td>research</td>\n",
              "      <td>projects</td>\n",
              "      <td>NaN</td>\n",
              "      <td>NaN</td>\n",
              "      <td>NaN</td>\n",
              "      <td>1,443147</td>\n",
              "    </tr>\n",
              "    <tr>\n",
              "      <th>957</th>\n",
              "      <td>expert</td>\n",
              "      <td>systems</td>\n",
              "      <td>NaN</td>\n",
              "      <td>NaN</td>\n",
              "      <td>NaN</td>\n",
              "      <td>4,329442</td>\n",
              "    </tr>\n",
              "    <tr>\n",
              "      <th>958</th>\n",
              "      <td>software</td>\n",
              "      <td>development</td>\n",
              "      <td>NaN</td>\n",
              "      <td>NaN</td>\n",
              "      <td>NaN</td>\n",
              "      <td>2,886294</td>\n",
              "    </tr>\n",
              "  </tbody>\n",
              "</table>\n",
              "<p>959 rows × 6 columns</p>\n",
              "</div>"
            ],
            "text/plain": [
              "        keyword1     keyword2 keyword3 keyword4 keyword5     score\n",
              "0     ,\"software  engineering      NaN      NaN      NaN  3,636294\n",
              "1      essential  engineering      NaN      NaN      NaN  2,943147\n",
              "2       software  application      NaN      NaN      NaN  2,943147\n",
              "3    engineering   challenges      NaN      NaN      NaN  2,193147\n",
              "4    engineering    processes      NaN      NaN      NaN  2,193147\n",
              "..           ...          ...      ...      ...      ...       ...\n",
              "954       Recent  Discussions      NaN      NaN      NaN  0,693147\n",
              "955        first         time      NaN      NaN      NaN  0,693147\n",
              "956     research     projects      NaN      NaN      NaN  1,443147\n",
              "957       expert      systems      NaN      NaN      NaN  4,329442\n",
              "958     software  development      NaN      NaN      NaN  2,886294\n",
              "\n",
              "[959 rows x 6 columns]"
            ]
          },
          "metadata": {
            "tags": []
          },
          "execution_count": 18
        }
      ]
    },
    {
      "cell_type": "code",
      "metadata": {
        "id": "dg8OgysClw6n"
      },
      "source": [
        "#df.dropna(inplace=True)\r\n",
        "df['score'] = df['score'].str.replace(\",\", \".\")\r\n",
        "df['keyword1'] = df['keyword1'].str.replace(',\"', \"\")\r\n",
        "df['keyword1'] = df['keyword1'].str.replace(\"dtype:\", \"\")\r\n",
        "df['keyword2'] = df['keyword2'].str.replace('float64\"', \"\")"
      ],
      "execution_count": 19,
      "outputs": []
    },
    {
      "cell_type": "code",
      "metadata": {
        "id": "00tPPADV47r4",
        "colab": {
          "base_uri": "https://localhost:8080/",
          "height": 411
        },
        "outputId": "ce277f69-0610-4c55-cc92-892db90c7960"
      },
      "source": [
        "df['keyword'] = df[['keyword1', 'keyword2', 'keyword3', 'keyword4', 'keyword5']].fillna('').agg(' '.join, axis=1)\r\n",
        "df['keyword'] = df['keyword'].str.lower()\r\n",
        "\r\n",
        "df = df.dropna(subset=['score'])\r\n",
        "df = df.drop(columns=['keyword1', 'keyword2', 'keyword3', 'keyword4', 'keyword5'])\r\n",
        "\r\n",
        "df['score'] = df['score'].apply(lambda x: float(x))\r\n",
        "df"
      ],
      "execution_count": 20,
      "outputs": [
        {
          "output_type": "execute_result",
          "data": {
            "text/html": [
              "<div>\n",
              "<style scoped>\n",
              "    .dataframe tbody tr th:only-of-type {\n",
              "        vertical-align: middle;\n",
              "    }\n",
              "\n",
              "    .dataframe tbody tr th {\n",
              "        vertical-align: top;\n",
              "    }\n",
              "\n",
              "    .dataframe thead th {\n",
              "        text-align: right;\n",
              "    }\n",
              "</style>\n",
              "<table border=\"1\" class=\"dataframe\">\n",
              "  <thead>\n",
              "    <tr style=\"text-align: right;\">\n",
              "      <th></th>\n",
              "      <th>score</th>\n",
              "      <th>keyword</th>\n",
              "    </tr>\n",
              "  </thead>\n",
              "  <tbody>\n",
              "    <tr>\n",
              "      <th>0</th>\n",
              "      <td>3.636294</td>\n",
              "      <td>software engineering</td>\n",
              "    </tr>\n",
              "    <tr>\n",
              "      <th>1</th>\n",
              "      <td>2.943147</td>\n",
              "      <td>essential engineering</td>\n",
              "    </tr>\n",
              "    <tr>\n",
              "      <th>2</th>\n",
              "      <td>2.943147</td>\n",
              "      <td>software application</td>\n",
              "    </tr>\n",
              "    <tr>\n",
              "      <th>3</th>\n",
              "      <td>2.193147</td>\n",
              "      <td>engineering challenges</td>\n",
              "    </tr>\n",
              "    <tr>\n",
              "      <th>4</th>\n",
              "      <td>2.193147</td>\n",
              "      <td>engineering processes</td>\n",
              "    </tr>\n",
              "    <tr>\n",
              "      <th>...</th>\n",
              "      <td>...</td>\n",
              "      <td>...</td>\n",
              "    </tr>\n",
              "    <tr>\n",
              "      <th>954</th>\n",
              "      <td>0.693147</td>\n",
              "      <td>recent discussions</td>\n",
              "    </tr>\n",
              "    <tr>\n",
              "      <th>955</th>\n",
              "      <td>0.693147</td>\n",
              "      <td>first time</td>\n",
              "    </tr>\n",
              "    <tr>\n",
              "      <th>956</th>\n",
              "      <td>1.443147</td>\n",
              "      <td>research projects</td>\n",
              "    </tr>\n",
              "    <tr>\n",
              "      <th>957</th>\n",
              "      <td>4.329442</td>\n",
              "      <td>expert systems</td>\n",
              "    </tr>\n",
              "    <tr>\n",
              "      <th>958</th>\n",
              "      <td>2.886294</td>\n",
              "      <td>software development</td>\n",
              "    </tr>\n",
              "  </tbody>\n",
              "</table>\n",
              "<p>837 rows × 2 columns</p>\n",
              "</div>"
            ],
            "text/plain": [
              "        score                    keyword\n",
              "0    3.636294    software engineering   \n",
              "1    2.943147   essential engineering   \n",
              "2    2.943147    software application   \n",
              "3    2.193147  engineering challenges   \n",
              "4    2.193147   engineering processes   \n",
              "..        ...                        ...\n",
              "954  0.693147      recent discussions   \n",
              "955  0.693147              first time   \n",
              "956  1.443147       research projects   \n",
              "957  4.329442          expert systems   \n",
              "958  2.886294    software development   \n",
              "\n",
              "[837 rows x 2 columns]"
            ]
          },
          "metadata": {
            "tags": []
          },
          "execution_count": 20
        }
      ]
    },
    {
      "cell_type": "code",
      "metadata": {
        "colab": {
          "base_uri": "https://localhost:8080/",
          "height": 411
        },
        "id": "CwrVQlu0nkLR",
        "outputId": "0553c249-d7eb-4da9-a8ee-eff9a0aba8ab"
      },
      "source": [
        "counter = df.groupby(['keyword']).agg('count').reset_index()\r\n",
        "counter.rename(columns = {'score':'counter'}, inplace = True)\r\n",
        "counter"
      ],
      "execution_count": 16,
      "outputs": [
        {
          "output_type": "execute_result",
          "data": {
            "text/html": [
              "<div>\n",
              "<style scoped>\n",
              "    .dataframe tbody tr th:only-of-type {\n",
              "        vertical-align: middle;\n",
              "    }\n",
              "\n",
              "    .dataframe tbody tr th {\n",
              "        vertical-align: top;\n",
              "    }\n",
              "\n",
              "    .dataframe thead th {\n",
              "        text-align: right;\n",
              "    }\n",
              "</style>\n",
              "<table border=\"1\" class=\"dataframe\">\n",
              "  <thead>\n",
              "    <tr style=\"text-align: right;\">\n",
              "      <th></th>\n",
              "      <th>keyword</th>\n",
              "      <th>counter</th>\n",
              "    </tr>\n",
              "  </thead>\n",
              "  <tbody>\n",
              "    <tr>\n",
              "      <th>0</th>\n",
              "      <td>50th anniversary</td>\n",
              "      <td>1</td>\n",
              "    </tr>\n",
              "    <tr>\n",
              "      <th>1</th>\n",
              "      <td>absolute peak</td>\n",
              "      <td>1</td>\n",
              "    </tr>\n",
              "    <tr>\n",
              "      <th>2</th>\n",
              "      <td>acceptable safety</td>\n",
              "      <td>1</td>\n",
              "    </tr>\n",
              "    <tr>\n",
              "      <th>3</th>\n",
              "      <td>accuracy model</td>\n",
              "      <td>1</td>\n",
              "    </tr>\n",
              "    <tr>\n",
              "      <th>4</th>\n",
              "      <td>activity levels</td>\n",
              "      <td>1</td>\n",
              "    </tr>\n",
              "    <tr>\n",
              "      <th>...</th>\n",
              "      <td>...</td>\n",
              "      <td>...</td>\n",
              "    </tr>\n",
              "    <tr>\n",
              "      <th>467</th>\n",
              "      <td>user interface</td>\n",
              "      <td>1</td>\n",
              "    </tr>\n",
              "    <tr>\n",
              "      <th>468</th>\n",
              "      <td>value generation</td>\n",
              "      <td>3</td>\n",
              "    </tr>\n",
              "    <tr>\n",
              "      <th>469</th>\n",
              "      <td>wider computer</td>\n",
              "      <td>1</td>\n",
              "    </tr>\n",
              "    <tr>\n",
              "      <th>470</th>\n",
              "      <td>wider computer science</td>\n",
              "      <td>1</td>\n",
              "    </tr>\n",
              "    <tr>\n",
              "      <th>471</th>\n",
              "      <td>ãâãâautomaticãâãâ memoization</td>\n",
              "      <td>1</td>\n",
              "    </tr>\n",
              "  </tbody>\n",
              "</table>\n",
              "<p>472 rows × 2 columns</p>\n",
              "</div>"
            ],
            "text/plain": [
              "                                      keyword  counter\n",
              "0                         50th anniversary           1\n",
              "1                            absolute peak           1\n",
              "2                        acceptable safety           1\n",
              "3                           accuracy model           1\n",
              "4                          activity levels           1\n",
              "..                                        ...      ...\n",
              "467                         user interface           1\n",
              "468                       value generation           3\n",
              "469                         wider computer           1\n",
              "470                  wider computer science          1\n",
              "471  ãâãâautomaticãâãâ memoization           1\n",
              "\n",
              "[472 rows x 2 columns]"
            ]
          },
          "metadata": {
            "tags": []
          },
          "execution_count": 16
        }
      ]
    },
    {
      "cell_type": "code",
      "metadata": {
        "colab": {
          "base_uri": "https://localhost:8080/",
          "height": 406
        },
        "id": "hINIPiGHthaL",
        "outputId": "222c06db-0a38-40d2-b870-d2a63d6acce5"
      },
      "source": [
        "grouped = df.groupby(['keyword']).mean().reset_index()\r\n",
        "grouped"
      ],
      "execution_count": null,
      "outputs": [
        {
          "output_type": "execute_result",
          "data": {
            "text/html": [
              "<div>\n",
              "<style scoped>\n",
              "    .dataframe tbody tr th:only-of-type {\n",
              "        vertical-align: middle;\n",
              "    }\n",
              "\n",
              "    .dataframe tbody tr th {\n",
              "        vertical-align: top;\n",
              "    }\n",
              "\n",
              "    .dataframe thead th {\n",
              "        text-align: right;\n",
              "    }\n",
              "</style>\n",
              "<table border=\"1\" class=\"dataframe\">\n",
              "  <thead>\n",
              "    <tr style=\"text-align: right;\">\n",
              "      <th></th>\n",
              "      <th>keyword</th>\n",
              "      <th>score</th>\n",
              "    </tr>\n",
              "  </thead>\n",
              "  <tbody>\n",
              "    <tr>\n",
              "      <th>0</th>\n",
              "      <td>50th anniversary</td>\n",
              "      <td>0.693147</td>\n",
              "    </tr>\n",
              "    <tr>\n",
              "      <th>1</th>\n",
              "      <td>absolute peak</td>\n",
              "      <td>0.693147</td>\n",
              "    </tr>\n",
              "    <tr>\n",
              "      <th>2</th>\n",
              "      <td>acceptable safety</td>\n",
              "      <td>1.443147</td>\n",
              "    </tr>\n",
              "    <tr>\n",
              "      <th>3</th>\n",
              "      <td>accuracy model</td>\n",
              "      <td>1.443147</td>\n",
              "    </tr>\n",
              "    <tr>\n",
              "      <th>4</th>\n",
              "      <td>activity levels</td>\n",
              "      <td>1.443147</td>\n",
              "    </tr>\n",
              "    <tr>\n",
              "      <th>...</th>\n",
              "      <td>...</td>\n",
              "      <td>...</td>\n",
              "    </tr>\n",
              "    <tr>\n",
              "      <th>467</th>\n",
              "      <td>user interface</td>\n",
              "      <td>0.693147</td>\n",
              "    </tr>\n",
              "    <tr>\n",
              "      <th>468</th>\n",
              "      <td>value generation</td>\n",
              "      <td>1.443147</td>\n",
              "    </tr>\n",
              "    <tr>\n",
              "      <th>469</th>\n",
              "      <td>wider computer</td>\n",
              "      <td>2.193147</td>\n",
              "    </tr>\n",
              "    <tr>\n",
              "      <th>470</th>\n",
              "      <td>wider computer science</td>\n",
              "      <td>2.048612</td>\n",
              "    </tr>\n",
              "    <tr>\n",
              "      <th>471</th>\n",
              "      <td>ãâãâautomaticãâãâ memoization</td>\n",
              "      <td>1.443147</td>\n",
              "    </tr>\n",
              "  </tbody>\n",
              "</table>\n",
              "<p>472 rows × 2 columns</p>\n",
              "</div>"
            ],
            "text/plain": [
              "                                      keyword     score\n",
              "0                         50th anniversary     0.693147\n",
              "1                            absolute peak     0.693147\n",
              "2                        acceptable safety     1.443147\n",
              "3                           accuracy model     1.443147\n",
              "4                          activity levels     1.443147\n",
              "..                                        ...       ...\n",
              "467                         user interface     0.693147\n",
              "468                       value generation     1.443147\n",
              "469                         wider computer     2.193147\n",
              "470                  wider computer science    2.048612\n",
              "471  ãâãâautomaticãâãâ memoization     1.443147\n",
              "\n",
              "[472 rows x 2 columns]"
            ]
          },
          "metadata": {
            "tags": []
          },
          "execution_count": 9
        }
      ]
    },
    {
      "cell_type": "code",
      "metadata": {
        "id": "ztam1ESatUet"
      },
      "source": [
        "df_scatter = grouped.join(counter['counter'])"
      ],
      "execution_count": null,
      "outputs": []
    },
    {
      "cell_type": "code",
      "metadata": {
        "colab": {
          "base_uri": "https://localhost:8080/"
        },
        "id": "1mjvsL0eANFG",
        "outputId": "ebe563ff-cbb7-4a7e-cf55-8d4de215c27d"
      },
      "source": [
        "print(len(df_scatter['counter']))"
      ],
      "execution_count": null,
      "outputs": [
        {
          "output_type": "stream",
          "text": [
            "472\n"
          ],
          "name": "stdout"
        }
      ]
    },
    {
      "cell_type": "code",
      "metadata": {
        "colab": {
          "base_uri": "https://localhost:8080/",
          "height": 621
        },
        "id": "Ma0EWaVh-iv5",
        "outputId": "c7d05095-4957-4a31-e3ef-912835f071ab"
      },
      "source": [
        "figure = plt.figure(figsize=(20,10))\r\n",
        "axes = plt.axes()\r\n",
        "colors = np.arange(472)\r\n",
        "\r\n",
        "size = [5*2**n for n in df_scatter['counter'].tolist()]\r\n",
        "\r\n",
        "axes.scatter(df_scatter.index,\r\n",
        "             df_scatter['score'],\r\n",
        "             s=df_scatter['counter']*25,\r\n",
        "             c=colors,\r\n",
        "             cmap='viridis',\r\n",
        "             alpha=0.6,\r\n",
        "             picker=True)\r\n",
        "\r\n",
        "plt.annotate('data science', (57, 7.908883))\r\n",
        "plt.annotate('software engineering', (374, 3.042111))\r\n",
        "plt.annotate('process model', (306, 6.177106))\r\n",
        "plt.annotate('expert systems', (132, 3.444966))\r\n",
        "plt.annotate('research directions', (338, 1.343147))\r\n",
        "plt.annotate('real time', (328, 5.136294))\r\n",
        "plt.annotate('intelligent techniques', (180, 5.658883))\r\n",
        "plt.annotate('data mining', (53, 6.471478))\r\n",
        "plt.annotate('artificial intelligence', (12, 1.420406), rotation=45)\r\n",
        "\r\n",
        "# https://towardsdatascience.com/simple-ways-to-improve-your-matplotlib-b64eebccfd5\r\n",
        "\r\n",
        "\r\n",
        "\r\n",
        "axes.set(xlabel='keyword', ylabel='average score',\r\n",
        "       title='Keywords distribution')\r\n",
        "\r\n",
        "axes.grid()"
      ],
      "execution_count": null,
      "outputs": [
        {
          "output_type": "display_data",
          "data": {
            "image/png": "[encoded data removed]",
            "text/plain": [
              "<Figure size 1440x720 with 1 Axes>"
            ]
          },
          "metadata": {
            "tags": [],
            "needs_background": "light"
          }
        }
      ]
    },
    {
      "cell_type": "code",
      "metadata": {
        "id": "jTxjr-GyAJOM"
      },
      "source": [
        "figure.savefig(\"Keywords distribution.png\")"
      ],
      "execution_count": null,
      "outputs": []
    },
    {
      "cell_type": "code",
      "metadata": {
        "colab": {
          "base_uri": "https://localhost:8080/",
          "height": 542
        },
        "id": "0oWHaBqEvDSO",
        "outputId": "3df68ea7-8275-4fe0-a7ee-160b7eb9c359"
      },
      "source": [
        "\r\n",
        "fig = go.Figure(data=[go.Scatter(\r\n",
        "    x=df_scatter.index, y=df_scatter['score'],\r\n",
        "    mode='markers',\r\n",
        "    text='keyword: ' + df_scatter['keyword'],\r\n",
        "    opacity=0.6,\r\n",
        "    textposition='top center',\r\n",
        "    marker=dict(\r\n",
        "        color=df_scatter.index,\r\n",
        "        size=df_scatter['counter'],\r\n",
        "        sizemode='area',\r\n",
        "        sizeref=2.*max(df_scatter['counter'])/(35.**2),\r\n",
        "        sizemin=4\r\n",
        "    ))\r\n",
        "])\r\n",
        "\r\n",
        "fig.update_layout(\r\n",
        "    title=\"Keywords distribuation\",\r\n",
        "    xaxis_title=\"keyword\",\r\n",
        "    yaxis_title=\"average score\",\r\n",
        ")\r\n",
        "\r\n",
        "\r\n",
        "fig.show()"
      ],
      "execution_count": null,
      "outputs": [
        {
          "output_type": "display_data",
          "data": {
            "text/html": [
              "<html>\n",
              "<head><meta charset=\"utf-8\" /></head>\n",
              "<body>\n",
              "    <div>\n",
              "            <script src=\"https://cdnjs.cloudflare.com/ajax/libs/mathjax/2.7.5/MathJax.js?config=TeX-AMS-MML_SVG\"></script><script type=\"text/javascript\">if (window.MathJax) {MathJax.Hub.Config({SVG: {font: \"STIX-Web\"}});}</script>\n",
              "                <script type=\"text/javascript\">window.PlotlyConfig = {MathJaxConfig: 'local'};</script>\n",
              "        <script src=\"https://cdn.plot.ly/plotly-latest.min.js\"></script>    \n",
              "            <div id=\"bf0e5f71-0caa-4770-81e3-27ed2b1d0eab\" class=\"plotly-graph-div\" style=\"height:525px; width:100%;\"></div>\n",
              "            <script type=\"text/javascript\">\n",
              "                \n",
              "                    window.PLOTLYENV=window.PLOTLYENV || {};\n",
              "                    \n",
              "                if (document.getElementById(\"bf0e5f71-0caa-4770-81e3-27ed2b1d0eab\")) {\n",
              "                    Plotly.newPlot(\n",
              "                        'bf0e5f71-0caa-4770-81e3-27ed2b1d0eab',\n",
              "                        [{\"marker\": {\"color\": [0, 1, 2, 3, 4, 5, 6, 7, 8, 9, 10, 11, 12, 13, 14, 15, 16, 17, 18, 19, 20, 21, 22, 23, 24, 25, 26, 27, 28, 29, 30, 31, 32, 33, 34, 35, 36, 37, 38, 39, 40, 41, 42, 43, 44, 45, 46, 47, 48, 49, 50, 51, 52, 53, 54, 55, 56, 57, 58, 59, 60, 61, 62, 63, 64, 65, 66, 67, 68, 69, 70, 71, 72, 73, 74, 75, 76, 77, 78, 79, 80, 81, 82, 83, 84, 85, 86, 87, 88, 89, 90, 91, 92, 93, 94, 95, 96, 97, 98, 99, 100, 101, 102, 103, 104, 105, 106, 107, 108, 109, 110, 111, 112, 113, 114, 115, 116, 117, 118, 119, 120, 121, 122, 123, 124, 125, 126, 127, 128, 129, 130, 131, 132, 133, 134, 135, 136, 137, 138, 139, 140, 141, 142, 143, 144, 145, 146, 147, 148, 149, 150, 151, 152, 153, 154, 155, 156, 157, 158, 159, 160, 161, 162, 163, 164, 165, 166, 167, 168, 169, 170, 171, 172, 173, 174, 175, 176, 177, 178, 179, 180, 181, 182, 183, 184, 185, 186, 187, 188, 189, 190, 191, 192, 193, 194, 195, 196, 197, 198, 199, 200, 201, 202, 203, 204, 205, 206, 207, 208, 209, 210, 211, 212, 213, 214, 215, 216, 217, 218, 219, 220, 221, 222, 223, 224, 225, 226, 227, 228, 229, 230, 231, 232, 233, 234, 235, 236, 237, 238, 239, 240, 241, 242, 243, 244, 245, 246, 247, 248, 249, 250, 251, 252, 253, 254, 255, 256, 257, 258, 259, 260, 261, 262, 263, 264, 265, 266, 267, 268, 269, 270, 271, 272, 273, 274, 275, 276, 277, 278, 279, 280, 281, 282, 283, 284, 285, 286, 287, 288, 289, 290, 291, 292, 293, 294, 295, 296, 297, 298, 299, 300, 301, 302, 303, 304, 305, 306, 307, 308, 309, 310, 311, 312, 313, 314, 315, 316, 317, 318, 319, 320, 321, 322, 323, 324, 325, 326, 327, 328, 329, 330, 331, 332, 333, 334, 335, 336, 337, 338, 339, 340, 341, 342, 343, 344, 345, 346, 347, 348, 349, 350, 351, 352, 353, 354, 355, 356, 357, 358, 359, 360, 361, 362, 363, 364, 365, 366, 367, 368, 369, 370, 371, 372, 373, 374, 375, 376, 377, 378, 379, 380, 381, 382, 383, 384, 385, 386, 387, 388, 389, 390, 391, 392, 393, 394, 395, 396, 397, 398, 399, 400, 401, 402, 403, 404, 405, 406, 407, 408, 409, 410, 411, 412, 413, 414, 415, 416, 417, 418, 419, 420, 421, 422, 423, 424, 425, 426, 427, 428, 429, 430, 431, 432, 433, 434, 435, 436, 437, 438, 439, 440, 441, 442, 443, 444, 445, 446, 447, 448, 449, 450, 451, 452, 453, 454, 455, 456, 457, 458, 459, 460, 461, 462, 463, 464, 465, 466, 467, 468, 469, 470, 471], \"size\": [1, 1, 1, 1, 1, 1, 1, 3, 1, 1, 1, 1, 5, 1, 1, 1, 1, 1, 3, 1, 1, 1, 1, 1, 1, 1, 1, 1, 1, 1, 1, 1, 1, 1, 1, 3, 3, 1, 3, 1, 1, 1, 3, 1, 6, 1, 1, 1, 1, 1, 1, 1, 1, 8, 1, 1, 1, 3, 1, 2, 1, 1, 1, 1, 6, 1, 1, 1, 3, 4, 4, 1, 3, 1, 1, 3, 3, 1, 4, 4, 1, 1, 1, 1, 1, 1, 1, 1, 3, 1, 3, 1, 3, 1, 3, 1, 1, 1, 1, 2, 2, 3, 1, 3, 1, 1, 1, 1, 1, 1, 2, 2, 1, 2, 2, 1, 1, 1, 1, 1, 1, 1, 1, 1, 1, 3, 1, 1, 1, 1, 1, 3, 12, 1, 1, 3, 1, 1, 1, 1, 1, 5, 1, 1, 1, 1, 1, 1, 1, 3, 3, 1, 1, 1, 1, 1, 1, 1, 1, 1, 1, 1, 1, 1, 1, 1, 1, 3, 1, 1, 3, 1, 1, 1, 1, 1, 3, 1, 4, 1, 3, 1, 1, 1, 1, 1, 1, 3, 1, 2, 1, 1, 1, 1, 3, 1, 1, 1, 2, 1, 1, 1, 1, 1, 1, 1, 1, 3, 1, 6, 3, 1, 1, 2, 1, 2, 1, 1, 1, 1, 1, 1, 1, 1, 3, 3, 1, 1, 3, 3, 1, 3, 1, 1, 1, 1, 1, 1, 1, 1, 1, 1, 1, 1, 2, 1, 1, 8, 1, 1, 1, 12, 1, 1, 4, 1, 1, 3, 1, 3, 1, 1, 1, 1, 1, 1, 1, 3, 1, 1, 1, 1, 3, 3, 1, 1, 1, 1, 1, 1, 1, 1, 1, 1, 1, 1, 3, 1, 1, 1, 1, 1, 1, 3, 1, 1, 1, 1, 1, 1, 1, 1, 1, 1, 1, 1, 5, 1, 1, 3, 3, 1, 1, 1, 3, 1, 3, 1, 1, 1, 3, 4, 1, 1, 1, 1, 1, 1, 3, 3, 3, 3, 1, 1, 1, 1, 1, 1, 15, 1, 3, 1, 3, 3, 1, 1, 1, 1, 3, 1, 1, 1, 1, 1, 2, 1, 3, 1, 1, 1, 1, 1, 1, 1, 3, 1, 1, 1, 2, 1, 21, 1, 1, 1, 73, 1, 1, 1, 1, 1, 1, 2, 1, 1, 2, 1, 3, 1, 1, 1, 1, 4, 1, 1, 1, 7, 1, 4, 1, 3, 1, 1, 1, 3, 3, 1, 1, 1, 1, 1, 1, 1, 1, 1, 3, 1, 2, 2, 1, 1, 1, 1, 1, 3, 1, 1, 3, 1, 1, 1, 1, 2, 3, 1, 1, 2, 1, 1, 3, 1, 1, 3, 1, 1, 1, 1, 1, 1, 1, 1, 1, 1, 1, 6, 1, 1, 1, 3, 1, 1, 1, 1, 1, 1, 1, 1, 1, 1, 3, 1, 1, 1], \"sizemin\": 4, \"sizemode\": \"area\", \"sizeref\": 0.11918367346938775}, \"mode\": \"markers\", \"opacity\": 0.6, \"text\": [\"keyword: 50th anniversary   \", \"keyword: absolute peak   \", \"keyword: acceptable safety   \", \"keyword: accuracy model   \", \"keyword: activity levels   \", \"keyword: ai software   \", \"keyword: ai software development  \", \"keyword: ai systems   \", \"keyword: application domain   \", \"keyword: application project   \", \"keyword: appropriate ai   \", \"keyword: artificial conditions   \", \"keyword: artificial intelligence   \", \"keyword: assistance applications   \", \"keyword: assurance perspective   \", \"keyword: automatic memoization   \", \"keyword: bad se design  \", \"keyword: bad se design patterns \", \"keyword: bayesian estimator   \", \"keyword: better ai   \", \"keyword: better ai systems  \", \"keyword: building lookup   \", \"keyword: business contexts   \", \"keyword: business software   \", \"keyword: business value   \", \"keyword: case study   \", \"keyword: centric software   \", \"keyword: certification methods   \", \"keyword: classic software   \", \"keyword: classic software engineering  \", \"keyword: commercial expert   \", \"keyword: common use   \", \"keyword: communication technology   \", \"keyword: competitive edges   \", \"keyword: complex computing   \", \"keyword: complex software   \", \"keyword: computational concepts   \", \"keyword: computer control   \", \"keyword: computer science   \", \"keyword: computer science community  \", \"keyword: computing resources   \", \"keyword: computing systems   \", \"keyword: construction process   \", \"keyword: control systems   \", \"keyword: conventional software   \", \"keyword: conventional software systems  \", \"keyword: critical look   \", \"keyword: critical research   \", \"keyword: critical research directions  \", \"keyword: critical software   \", \"keyword: crucial role   \", \"keyword: current knowledge   \", \"keyword: current software   \", \"keyword: data mining   \", \"keyword: data mining applications  \", \"keyword: data mining process  \", \"keyword: data mining software  \", \"keyword: data science   \", \"keyword: data science projects  \", \"keyword: data scientists   \", \"keyword: data that low probability \", \"keyword: data that low probability events\", \"keyword: decision support   \", \"keyword: decision support system  \", \"keyword: deep learning   \", \"keyword: deep learning questions  \", \"keyword: deep learning techniques  \", \"keyword: deep neural networks  \", \"keyword: deliverable es   \", \"keyword: design patterns   \", \"keyword: design process   \", \"keyword: development companies   \", \"keyword: development effort   \", \"keyword: development environment   \", \"keyword: development framework   \", \"keyword: development industry   \", \"keyword: development methodology   \", \"keyword: development practices   \", \"keyword: development process   \", \"keyword: development processes   \", \"keyword: development projects   \", \"keyword: development rating   \", \"keyword: development trends   \", \"keyword: different areas   \", \"keyword: different construction   \", \"keyword: different construction process  \", \"keyword: different context   \", \"keyword: different social science  \", \"keyword: different software   \", \"keyword: different sources   \", \"keyword: domain text   \", \"keyword: domain text description  \", \"keyword: eclectic set   \", \"keyword: editor designer   \", \"keyword: editorial humor   \", \"keyword: educational institutions   \", \"keyword: effective model   \", \"keyword: effort estimation   \", \"keyword: empirical studies   \", \"keyword: engineering challenges   \", \"keyword: engineering community   \", \"keyword: engineering design   \", \"keyword: engineering design patterns  \", \"keyword: engineering development   \", \"keyword: engineering development environment  \", \"keyword: engineering disciplines   \", \"keyword: engineering methodologies   \", \"keyword: engineering methodology   \", \"keyword: engineering model   \", \"keyword: engineering paradigms   \", \"keyword: engineering practice   \", \"keyword: engineering practices   \", \"keyword: engineering practitioners   \", \"keyword: engineering process   \", \"keyword: engineering processes   \", \"keyword: engineering researchers   \", \"keyword: engineering standard   \", \"keyword: engineering standards   \", \"keyword: engineering strategies   \", \"keyword: engineering tool   \", \"keyword: es applications   \", \"keyword: essential engineering   \", \"keyword: essential issues   \", \"keyword: estimation model   \", \"keyword: estimator reward   \", \"keyword: evolution patterns   \", \"keyword: evolution patterns that companies \", \"keyword: evolutionary approaches   \", \"keyword: evolvable infrastructure   \", \"keyword: experimental results   \", \"keyword: expert group   \", \"keyword: expert system   \", \"keyword: expert systems   \", \"keyword: few decades   \", \"keyword: fewer test   \", \"keyword: first time   \", \"keyword: formal logic   \", \"keyword: functional properties   \", \"keyword: fundamental test   \", \"keyword: funniest part   \", \"keyword: future possibilities   \", \"keyword: future research   \", \"keyword: future research directions  \", \"keyword: fuzzy expert   \", \"keyword: fuzzy expert systems  \", \"keyword: fuzzy logic   \", \"keyword: fuzzy logic concepts  \", \"keyword: general improvement   \", \"keyword: generic data   \", \"keyword: graphical application   \", \"keyword: high accuracy   \", \"keyword: high accuracy model  \", \"keyword: high level   \", \"keyword: human system   \", \"keyword: hyperparameter selection   \", \"keyword: ideas that software  \", \"keyword: ideas that software engineering \", \"keyword: implementation phase   \", \"keyword: important issues   \", \"keyword: important open challenges  \", \"keyword: important systems   \", \"keyword: improved capabilities   \", \"keyword: increased availability   \", \"keyword: industrial applications   \", \"keyword: industrial importance   \", \"keyword: industrial settings   \", \"keyword: industrial use   \", \"keyword: information needs   \", \"keyword: information system   \", \"keyword: input data   \", \"keyword: input generation   \", \"keyword: instant links   \", \"keyword: instantiation process   \", \"keyword: intelligence methods   \", \"keyword: intelligence system   \", \"keyword: intelligent agents   \", \"keyword: intelligent manufacturing   \", \"keyword: intelligent manufacturing systems  \", \"keyword: intelligent software   \", \"keyword: intelligent systems   \", \"keyword: intelligent techniques   \", \"keyword: interdisciplinary opportunities   \", \"keyword: international software   \", \"keyword: international software engineering  \", \"keyword: interpretive research   \", \"keyword: iso software   \", \"keyword: key challenges   \", \"keyword: knowledge base   \", \"keyword: language descriptions   \", \"keyword: language processing   \", \"keyword: large amounts   \", \"keyword: large product   \", \"keyword: large product development  \", \"keyword: large research   \", \"keyword: large scale   \", \"keyword: large systems   \", \"keyword: learning algorithm   \", \"keyword: learning algorithms   \", \"keyword: learning applications   \", \"keyword: learning questions   \", \"keyword: learning systems   \", \"keyword: learning techniques   \", \"keyword: level expert   \", \"keyword: level expert group  \", \"keyword: life cycle   \", \"keyword: literature review   \", \"keyword: lookup tables   \", \"keyword: low probability   \", \"keyword: low probability events  \", \"keyword: machine learning   \", \"keyword: machine learning applications  \", \"keyword: machine learning techniques  \", \"keyword: machine translation   \", \"keyword: main challenges   \", \"keyword: main root   \", \"keyword: main software   \", \"keyword: main software quality  \", \"keyword: mainstream software   \", \"keyword: maintenance costs   \", \"keyword: major stumbling block  \", \"keyword: many new software  \", \"keyword: market leader   \", \"keyword: massive ongoing maintenance  \", \"keyword: massive ongoing maintenance costs \", \"keyword: mathematical framework   \", \"keyword: mature tool   \", \"keyword: meaningful test   \", \"keyword: medical images   \", \"keyword: memoization facility   \", \"keyword: mining applications   \", \"keyword: mining engineering   \", \"keyword: mining process   \", \"keyword: mining process model  \", \"keyword: mining software   \", \"keyword: model development   \", \"keyword: model processes   \", \"keyword: modeling application   \", \"keyword: modeling decisions   \", \"keyword: modern software   \", \"keyword: multiple monitoring-   \", \"keyword: natural language   \", \"keyword: network definition   \", \"keyword: network models   \", \"keyword: network paradigms   \", \"keyword: network software   \", \"keyword: network standardization   \", \"keyword: neural nets   \", \"keyword: neural network   \", \"keyword: neural network models  \", \"keyword: neural network software  \", \"keyword: neural network standardization  \", \"keyword: neural networks   \", \"keyword: new computational concepts  \", \"keyword: new data   \", \"keyword: new software   \", \"keyword: new software demands  \", \"keyword: new software engineering  \", \"keyword: ongoing maintenance   \", \"keyword: ongoing maintenance costs  \", \"keyword: open challenges   \", \"keyword: open research   \", \"keyword: open source   \", \"keyword: open source tools  \", \"keyword: other assistance   \", \"keyword: other direction   \", \"keyword: other evolutionary approaches  \", \"keyword: other forms   \", \"keyword: other way   \", \"keyword: overall development   \", \"keyword: panel review   \", \"keyword: panel review approach  \", \"keyword: paper surveys recent work \", \"keyword: parametersand terabytes   \", \"keyword: partial training   \", \"keyword: past few decades  \", \"keyword: past performance   \", \"keyword: patterns that companies  \", \"keyword: performance evaluation   \", \"keyword: personal research   \", \"keyword: personal research projects  \", \"keyword: planning issues   \", \"keyword: plausible safety   \", \"keyword: point that benefits  \", \"keyword: possible area   \", \"keyword: possible future research  \", \"keyword: possible future research directions \", \"keyword: possible prediction   \", \"keyword: potential neural network  \", \"keyword: powerful formal notation  \", \"keyword: practical recommendations   \", \"keyword: practical software   \", \"keyword: practical software engineering  \", \"keyword: practice adoption   \", \"keyword: precise specifications   \", \"keyword: prediction model   \", \"keyword: prediction techniques   \", \"keyword: predictive algorithms   \", \"keyword: premise that expert  \", \"keyword: premise that expert systems \", \"keyword: premise that expert systems technology\", \"keyword: present software   \", \"keyword: prior research   \", \"keyword: probability events   \", \"keyword: problem domain   \", \"keyword: problem domain text  \", \"keyword: problems that companies  \", \"keyword: process model   \", \"keyword: process models   \", \"keyword: processing elements   \", \"keyword: product development   \", \"keyword: product evaluation   \", \"keyword: production system   \", \"keyword: program functions   \", \"keyword: program p   \", \"keyword: program pc   \", \"keyword: progressive partial training  \", \"keyword: propagation learning   \", \"keyword: prototyping paradigm   \", \"keyword: purposeful requirements   \", \"keyword: qa activity   \", \"keyword: quality aspects   \", \"keyword: quality assurance   \", \"keyword: quality assurance perspective  \", \"keyword: quality differs   \", \"keyword: quality information   \", \"keyword: quality issues   \", \"keyword: rapid prototyping   \", \"keyword: real production   \", \"keyword: real time   \", \"keyword: recent development   \", \"keyword: recent discussions   \", \"keyword: recent work   \", \"keyword: reliable test   \", \"keyword: reliable test oracle  \", \"keyword: requirements engineering   \", \"keyword: research approach   \", \"keyword: research areas   \", \"keyword: research challenges   \", \"keyword: research directions   \", \"keyword: research focus   \", \"keyword: research groups   \", \"keyword: research problems   \", \"keyword: research projects   \", \"keyword: research topics   \", \"keyword: research trends   \", \"keyword: respective application   \", \"keyword: respective application domain  \", \"keyword: response modeling   \", \"keyword: review approach   \", \"keyword: rough groupings   \", \"keyword: safety arguments   \", \"keyword: same result   \", \"keyword: scale machine   \", \"keyword: science community   \", \"keyword: science methodologies   \", \"keyword: science projects   \", \"keyword: screen editor   \", \"keyword: se design   \", \"keyword: se design patterns  \", \"keyword: seamless deployment   \", \"keyword: share experience   \", \"keyword: signal processing   \", \"keyword: simple mathematical framework  \", \"keyword: single function   \", \"keyword: social science   \", \"keyword: social science methodologies  \", \"keyword: software application   \", \"keyword: software applications   \", \"keyword: software components   \", \"keyword: software demands   \", \"keyword: software development   \", \"keyword: software development effort  \", \"keyword: software development industry  \", \"keyword: software development process  \", \"keyword: software engineering   \", \"keyword: software engineering challenges  \", \"keyword: software engineering design  \", \"keyword: software engineering development  \", \"keyword: software engineering methodologies  \", \"keyword: software engineering methodology  \", \"keyword: software engineering paradigms  \", \"keyword: software engineering practice  \", \"keyword: software engineering process  \", \"keyword: software engineering standards  \", \"keyword: software engineers   \", \"keyword: software framework   \", \"keyword: software market   \", \"keyword: software models   \", \"keyword: software modules   \", \"keyword: software process   \", \"keyword: software production   \", \"keyword: software quality   \", \"keyword: software quality assurance  \", \"keyword: software quality issues  \", \"keyword: software research   \", \"keyword: software systems   \", \"keyword: software technologies   \", \"keyword: software technology   \", \"keyword: software technology innovation  \", \"keyword: software testing   \", \"keyword: software testing research  \", \"keyword: software verification   \", \"keyword: sofware development   \", \"keyword: sophisticated advances   \", \"keyword: source tools   \", \"keyword: special issue   \", \"keyword: specialized process   \", \"keyword: specific components   \", \"keyword: specific management   \", \"keyword: specific problems   \", \"keyword: specific research   \", \"keyword: spiral type   \", \"keyword: spiral type life  \", \"keyword: statistical models   \", \"keyword: stickiness which other forms \", \"keyword: stochastic estimator   \", \"keyword: strategic research   \", \"keyword: strategic research directions  \", \"keyword: stumbling block   \", \"keyword: such editors   \", \"keyword: such precise specifications  \", \"keyword: such progressive partial training \", \"keyword: such sophisticated advances  \", \"keyword: support system   \", \"keyword: support system mbdss  \", \"keyword: surveys recent work  \", \"keyword: system analogy   \", \"keyword: system development   \", \"keyword: system development processes  \", \"keyword: system mbdss   \", \"keyword: system projects   \", \"keyword: systematic literature   \", \"keyword: systematic review   \", \"keyword: systems software   \", \"keyword: systems software development  \", \"keyword: systems technology   \", \"keyword: technology innovation   \", \"keyword: term quality   \", \"keyword: test cases   \", \"keyword: test input   \", \"keyword: test input generation  \", \"keyword: test oracle   \", \"keyword: test types   \", \"keyword: testing criteria   \", \"keyword: testing method   \", \"keyword: testing methods   \", \"keyword: testing research   \", \"keyword: text description   \", \"keyword: theme issue   \", \"keyword: time response   \", \"keyword: time software   \", \"keyword: time software engineering  \", \"keyword: tool support   \", \"keyword: traditional software   \", \"keyword: traditional software engineering  \", \"keyword: traditional sofware   \", \"keyword: traditional sofware development  \", \"keyword: type life   \", \"keyword: type life cycle  \", \"keyword: type system   \", \"keyword: typical evolution   \", \"keyword: typical evolution patterns that companies\", \"keyword: typical problems that companies \", \"keyword: uncertain problem   \", \"keyword: unified software   \", \"keyword: unintended editorial humor  \", \"keyword: use case   \", \"keyword: user interface   \", \"keyword: value generation   \", \"keyword: wider computer   \", \"keyword: wider computer science  \", \"keyword: \\u00e3\\u0083\\u00e2\\u0082\\u00e3\\u0082\\u00e2\\u0093automatic\\u00e3\\u0083\\u00e2\\u0082\\u00e3\\u0082\\u00e2\\u0094 memoization   \"], \"textposition\": \"top center\", \"type\": \"scatter\", \"x\": [0, 1, 2, 3, 4, 5, 6, 7, 8, 9, 10, 11, 12, 13, 14, 15, 16, 17, 18, 19, 20, 21, 22, 23, 24, 25, 26, 27, 28, 29, 30, 31, 32, 33, 34, 35, 36, 37, 38, 39, 40, 41, 42, 43, 44, 45, 46, 47, 48, 49, 50, 51, 52, 53, 54, 55, 56, 57, 58, 59, 60, 61, 62, 63, 64, 65, 66, 67, 68, 69, 70, 71, 72, 73, 74, 75, 76, 77, 78, 79, 80, 81, 82, 83, 84, 85, 86, 87, 88, 89, 90, 91, 92, 93, 94, 95, 96, 97, 98, 99, 100, 101, 102, 103, 104, 105, 106, 107, 108, 109, 110, 111, 112, 113, 114, 115, 116, 117, 118, 119, 120, 121, 122, 123, 124, 125, 126, 127, 128, 129, 130, 131, 132, 133, 134, 135, 136, 137, 138, 139, 140, 141, 142, 143, 144, 145, 146, 147, 148, 149, 150, 151, 152, 153, 154, 155, 156, 157, 158, 159, 160, 161, 162, 163, 164, 165, 166, 167, 168, 169, 170, 171, 172, 173, 174, 175, 176, 177, 178, 179, 180, 181, 182, 183, 184, 185, 186, 187, 188, 189, 190, 191, 192, 193, 194, 195, 196, 197, 198, 199, 200, 201, 202, 203, 204, 205, 206, 207, 208, 209, 210, 211, 212, 213, 214, 215, 216, 217, 218, 219, 220, 221, 222, 223, 224, 225, 226, 227, 228, 229, 230, 231, 232, 233, 234, 235, 236, 237, 238, 239, 240, 241, 242, 243, 244, 245, 246, 247, 248, 249, 250, 251, 252, 253, 254, 255, 256, 257, 258, 259, 260, 261, 262, 263, 264, 265, 266, 267, 268, 269, 270, 271, 272, 273, 274, 275, 276, 277, 278, 279, 280, 281, 282, 283, 284, 285, 286, 287, 288, 289, 290, 291, 292, 293, 294, 295, 296, 297, 298, 299, 300, 301, 302, 303, 304, 305, 306, 307, 308, 309, 310, 311, 312, 313, 314, 315, 316, 317, 318, 319, 320, 321, 322, 323, 324, 325, 326, 327, 328, 329, 330, 331, 332, 333, 334, 335, 336, 337, 338, 339, 340, 341, 342, 343, 344, 345, 346, 347, 348, 349, 350, 351, 352, 353, 354, 355, 356, 357, 358, 359, 360, 361, 362, 363, 364, 365, 366, 367, 368, 369, 370, 371, 372, 373, 374, 375, 376, 377, 378, 379, 380, 381, 382, 383, 384, 385, 386, 387, 388, 389, 390, 391, 392, 393, 394, 395, 396, 397, 398, 399, 400, 401, 402, 403, 404, 405, 406, 407, 408, 409, 410, 411, 412, 413, 414, 415, 416, 417, 418, 419, 420, 421, 422, 423, 424, 425, 426, 427, 428, 429, 430, 431, 432, 433, 434, 435, 436, 437, 438, 439, 440, 441, 442, 443, 444, 445, 446, 447, 448, 449, 450, 451, 452, 453, 454, 455, 456, 457, 458, 459, 460, 461, 462, 463, 464, 465, 466, 467, 468, 469, 470, 471], \"y\": [0.693147, 0.693147, 1.443147, 1.443147, 1.443147, 4.443147, 3.548612, 1.443147, 1.443147, 2.193147, 2.943147, 0.693147, 1.4204059999999998, 1.443147, 2.193147, 2.829442, 1.948612, 1.786294, 2.772589, 1.443147, 1.298612, 1.443147, 1.443147, 2.886294, 1.443147, 2.136294, 1.443147, 1.443147, 2.193147, 2.048612, 2.193147, 0.693147, 0.693147, 0.693147, 2.943147, 2.136294, 1.443147, 1.443147, 2.943147, 2.048612, 0.693147, 2.886294, 2.943147, 1.443147, 1.6647204999999998, 1.298612, 0.693147, 1.443147, 1.298612, 1.443147, 0.693147, 0.693147, 1.443147, 6.4714785, 1.298612, 2.048612, 3.548612, 7.908883, 3.495837, 2.107868, 3.736294, 2.759438, 2.193147, 2.048612, 3.551015, 3.495837, 1.298612, 3.395837, 0.6931470000000001, 4.3152285, 2.48286825, 2.193147, 2.136294, 2.193147, 1.443147, 1.443147, 5.136294, 1.443147, 2.17893375, 3.23286825, 2.943147, 2.193147, 1.443147, 0.693147, 2.193147, 2.048612, 0.693147, 1.948612, 1.443147, 0.693147, 2.943147, 2.048612, 0.6931470000000001, 0.693147, 1.443147, 0.693147, 1.443147, 2.943147, 1.443147, 2.5397205, 1.443147, 2.943147, 2.048612, 2.943147, 2.048612, 1.443147, 1.443147, 2.193147, 2.943147, 2.193147, 1.7897205, 1.8181470000000002, 1.443147, 1.8181470000000002, 1.8181470000000002, 1.443147, 2.193147, 2.193147, 1.443147, 2.193147, 2.136294, 2.943147, 1.443147, 2.193147, 1.443147, 2.943147, 2.336294, 1.443147, 0.693147, 1.443147, 1.443147, 2.943147, 3.4449659999999995, 1.443147, 1.443147, 0.6931470000000001, 0.693147, 0.693147, 1.443147, 0.693147, 0.693147, 2.343147, 2.048612, 2.829442, 3.495837, 2.136294, 2.397225, 0.693147, 2.943147, 2.136294, 1.443147, 1.298612, 3.636294, 1.443147, 1.443147, 1.848612, 1.586294, 0.693147, 1.443147, 1.198612, 1.443147, 0.693147, 0.693147, 0.693147, 0.693147, 2.772589, 1.443147, 2.079442, 2.193147, 1.386294, 1.443147, 0.693147, 0.693147, 1.443147, 1.443147, 1.443147, 4.965736, 4.594449, 3.3181469999999997, 2.772589, 5.658883, 0.693147, 2.193147, 2.048612, 1.443147, 2.193147, 0.693147, 5.079442, 0.693147, 1.443147, 0.693147, 2.193147, 2.048612, 1.443147, 4.272589, 1.386294, 2.193147, 1.443147, 2.482868, 2.829442, 1.443147, 1.443147, 1.443147, 1.298612, 2.886294, 1.443147, 1.443147, 4.443147, 2.798612, 2.270769666666667, 4.594449, 2.397225, 0.693147, 2.107868, 1.443147, 2.193147, 2.048612, 1.443147, 2.193147, 1.198612, 1.948612, 2.193147, 1.948612, 1.786294, 1.443147, 2.943147, 1.386294, 1.443147, 1.443147, 1.443147, 2.943147, 2.943147, 2.048612, 4.443147, 1.443147, 2.193147, 2.943147, 0.693147, 2.193147, 0.693147, 1.443147, 1.443147, 2.193147, 1.443147, 3.2897205, 1.443147, 1.386294, 3.88201125, 2.048612, 3.897225, 1.298612, 4.215736, 1.198612, 2.193147, 2.755647, 2.048612, 2.048612, 2.943147, 2.048612, 1.443147, 1.443147, 1.443147, 1.298612, 1.443147, 0.693147, 1.198612, 1.443147, 0.6931470000000001, 1.443147, 1.443147, 1.298612, 1.686294, 0.6931470000000001, 2.886294, 1.198612, 0.693147, 2.598612, 0.693147, 1.443147, 1.298612, 0.693147, 0.693147, 1.098612, 1.443147, 1.948612, 1.786294, 2.943147, 1.948612, 2.297225, 0.693147, 2.193147, 2.048612, 2.829442, 1.443147, 2.193147, 0.693147, 0.693147, 2.598612, 2.336294, 2.109438, 1.443147, 0.693147, 2.943147, 2.886294, 2.048612, 1.848612, 6.177106199999999, 2.193147, 1.386294, 2.943147, 2.079442, 1.443147, 1.443147, 1.386294, 1.3862940000000001, 1.948612, 2.943147, 1.443147, 0.693147, 1.443147, 2.829442, 3.073794, 2.048612, 1.443147, 2.943147, 2.193147, 1.443147, 1.443147, 5.136294, 1.443147, 0.6931470000000001, 2.193147, 1.443147, 1.298612, 2.886294, 1.443147, 2.193147, 0.693147, 1.3431469999999999, 0.693147, 2.886294, 1.443147, 1.443147, 1.443147, 0.693147, 1.443147, 1.298612, 2.193147, 1.443147, 0.693147, 1.443147, 0.693147, 2.943147, 2.193147, 2.193147, 2.829442, 0.6931470000000001, 2.943147, 2.048612, 0.693147, 0.693147, 1.443147, 1.198612, 1.443147, 2.943147, 2.048612, 2.943147, 1.443147, 3.2897205000000005, 2.193147, 2.8776527619047623, 2.397225, 1.298612, 1.298612, 3.04211097260274, 3.147225, 2.048612, 2.048612, 1.298612, 2.048612, 2.048612, 2.772225, 1.298612, 2.048612, 1.0397205, 2.943147, 2.943147, 1.443147, 1.443147, 2.136294, 1.443147, 4.35786825, 2.048612, 2.048612, 0.693147, 3.712509142857143, 1.443147, 1.96300725, 1.298612, 2.193147, 2.048612, 1.386294, 4.443147, 1.443147, 1.443147, 0.693147, 2.886294, 1.443147, 0.693147, 1.386294, 1.443147, 2.193147, 2.048612, 2.829442, 1.486294, 1.443147, 1.443147, 1.298612, 1.443147, 0.693147, 1.198612, 1.586294, 1.198612, 2.943147, 2.048612, 1.948612, 1.443147, 3.579442, 2.397225, 2.193147, 2.193147, 2.193147, 1.3862940000000001, 2.193147, 2.048612, 1.8181470000000002, 1.443147, 1.443147, 3.522589, 1.443147, 1.298612, 1.443147, 1.443147, 2.193147, 1.443147, 1.443147, 2.943147, 2.193147, 0.693147, 2.943147, 4.443147, 3.548612, 2.193147, 2.1647205, 2.048612, 4.443147, 3.548612, 2.943147, 2.048612, 0.693147, 2.193147, 2.109438, 1.586294, 1.443147, 1.443147, 1.198612, 1.443147, 0.693147, 1.443147, 2.193147, 2.048612, 1.443147]}],\n",
              "                        {\"template\": {\"data\": {\"bar\": [{\"error_x\": {\"color\": \"#2a3f5f\"}, \"error_y\": {\"color\": \"#2a3f5f\"}, \"marker\": {\"line\": {\"color\": \"#E5ECF6\", \"width\": 0.5}}, \"type\": \"bar\"}], \"barpolar\": [{\"marker\": {\"line\": {\"color\": \"#E5ECF6\", \"width\": 0.5}}, \"type\": \"barpolar\"}], \"carpet\": [{\"aaxis\": {\"endlinecolor\": \"#2a3f5f\", \"gridcolor\": \"white\", \"linecolor\": \"white\", \"minorgridcolor\": \"white\", \"startlinecolor\": \"#2a3f5f\"}, \"baxis\": {\"endlinecolor\": \"#2a3f5f\", \"gridcolor\": \"white\", \"linecolor\": \"white\", \"minorgridcolor\": \"white\", \"startlinecolor\": \"#2a3f5f\"}, \"type\": \"carpet\"}], \"choropleth\": [{\"colorbar\": {\"outlinewidth\": 0, \"ticks\": \"\"}, \"type\": \"choropleth\"}], \"contour\": [{\"colorbar\": {\"outlinewidth\": 0, \"ticks\": \"\"}, \"colorscale\": [[0.0, \"#0d0887\"], [0.1111111111111111, \"#46039f\"], [0.2222222222222222, \"#7201a8\"], [0.3333333333333333, \"#9c179e\"], [0.4444444444444444, \"#bd3786\"], [0.5555555555555556, \"#d8576b\"], [0.6666666666666666, \"#ed7953\"], [0.7777777777777778, \"#fb9f3a\"], [0.8888888888888888, \"#fdca26\"], [1.0, \"#f0f921\"]], \"type\": \"contour\"}], \"contourcarpet\": [{\"colorbar\": {\"outlinewidth\": 0, \"ticks\": \"\"}, \"type\": \"contourcarpet\"}], \"heatmap\": [{\"colorbar\": {\"outlinewidth\": 0, \"ticks\": \"\"}, \"colorscale\": [[0.0, \"#0d0887\"], [0.1111111111111111, \"#46039f\"], [0.2222222222222222, \"#7201a8\"], [0.3333333333333333, \"#9c179e\"], [0.4444444444444444, \"#bd3786\"], [0.5555555555555556, \"#d8576b\"], [0.6666666666666666, \"#ed7953\"], [0.7777777777777778, \"#fb9f3a\"], [0.8888888888888888, \"#fdca26\"], [1.0, \"#f0f921\"]], \"type\": \"heatmap\"}], \"heatmapgl\": [{\"colorbar\": {\"outlinewidth\": 0, \"ticks\": \"\"}, \"colorscale\": [[0.0, \"#0d0887\"], [0.1111111111111111, \"#46039f\"], [0.2222222222222222, \"#7201a8\"], [0.3333333333333333, \"#9c179e\"], [0.4444444444444444, \"#bd3786\"], [0.5555555555555556, \"#d8576b\"], [0.6666666666666666, \"#ed7953\"], [0.7777777777777778, \"#fb9f3a\"], [0.8888888888888888, \"#fdca26\"], [1.0, \"#f0f921\"]], \"type\": \"heatmapgl\"}], \"histogram\": [{\"marker\": {\"colorbar\": {\"outlinewidth\": 0, \"ticks\": \"\"}}, \"type\": \"histogram\"}], \"histogram2d\": [{\"colorbar\": {\"outlinewidth\": 0, \"ticks\": \"\"}, \"colorscale\": [[0.0, \"#0d0887\"], [0.1111111111111111, \"#46039f\"], [0.2222222222222222, \"#7201a8\"], [0.3333333333333333, \"#9c179e\"], [0.4444444444444444, \"#bd3786\"], [0.5555555555555556, \"#d8576b\"], [0.6666666666666666, \"#ed7953\"], [0.7777777777777778, \"#fb9f3a\"], [0.8888888888888888, \"#fdca26\"], [1.0, \"#f0f921\"]], \"type\": \"histogram2d\"}], \"histogram2dcontour\": [{\"colorbar\": {\"outlinewidth\": 0, \"ticks\": \"\"}, \"colorscale\": [[0.0, \"#0d0887\"], [0.1111111111111111, \"#46039f\"], [0.2222222222222222, \"#7201a8\"], [0.3333333333333333, \"#9c179e\"], [0.4444444444444444, \"#bd3786\"], [0.5555555555555556, \"#d8576b\"], [0.6666666666666666, \"#ed7953\"], [0.7777777777777778, \"#fb9f3a\"], [0.8888888888888888, \"#fdca26\"], [1.0, \"#f0f921\"]], \"type\": \"histogram2dcontour\"}], \"mesh3d\": [{\"colorbar\": {\"outlinewidth\": 0, \"ticks\": \"\"}, \"type\": \"mesh3d\"}], \"parcoords\": [{\"line\": {\"colorbar\": {\"outlinewidth\": 0, \"ticks\": \"\"}}, \"type\": \"parcoords\"}], \"pie\": [{\"automargin\": true, \"type\": \"pie\"}], \"scatter\": [{\"marker\": {\"colorbar\": {\"outlinewidth\": 0, \"ticks\": \"\"}}, \"type\": \"scatter\"}], \"scatter3d\": [{\"line\": {\"colorbar\": {\"outlinewidth\": 0, \"ticks\": \"\"}}, \"marker\": {\"colorbar\": {\"outlinewidth\": 0, \"ticks\": \"\"}}, \"type\": \"scatter3d\"}], \"scattercarpet\": [{\"marker\": {\"colorbar\": {\"outlinewidth\": 0, \"ticks\": \"\"}}, \"type\": \"scattercarpet\"}], \"scattergeo\": [{\"marker\": {\"colorbar\": {\"outlinewidth\": 0, \"ticks\": \"\"}}, \"type\": \"scattergeo\"}], \"scattergl\": [{\"marker\": {\"colorbar\": {\"outlinewidth\": 0, \"ticks\": \"\"}}, \"type\": \"scattergl\"}], \"scattermapbox\": [{\"marker\": {\"colorbar\": {\"outlinewidth\": 0, \"ticks\": \"\"}}, \"type\": \"scattermapbox\"}], \"scatterpolar\": [{\"marker\": {\"colorbar\": {\"outlinewidth\": 0, \"ticks\": \"\"}}, \"type\": \"scatterpolar\"}], \"scatterpolargl\": [{\"marker\": {\"colorbar\": {\"outlinewidth\": 0, \"ticks\": \"\"}}, \"type\": \"scatterpolargl\"}], \"scatterternary\": [{\"marker\": {\"colorbar\": {\"outlinewidth\": 0, \"ticks\": \"\"}}, \"type\": \"scatterternary\"}], \"surface\": [{\"colorbar\": {\"outlinewidth\": 0, \"ticks\": \"\"}, \"colorscale\": [[0.0, \"#0d0887\"], [0.1111111111111111, \"#46039f\"], [0.2222222222222222, \"#7201a8\"], [0.3333333333333333, \"#9c179e\"], [0.4444444444444444, \"#bd3786\"], [0.5555555555555556, \"#d8576b\"], [0.6666666666666666, \"#ed7953\"], [0.7777777777777778, \"#fb9f3a\"], [0.8888888888888888, \"#fdca26\"], [1.0, \"#f0f921\"]], \"type\": \"surface\"}], \"table\": [{\"cells\": {\"fill\": {\"color\": \"#EBF0F8\"}, \"line\": {\"color\": \"white\"}}, \"header\": {\"fill\": {\"color\": \"#C8D4E3\"}, \"line\": {\"color\": \"white\"}}, \"type\": \"table\"}]}, \"layout\": {\"annotationdefaults\": {\"arrowcolor\": \"#2a3f5f\", \"arrowhead\": 0, \"arrowwidth\": 1}, \"coloraxis\": {\"colorbar\": {\"outlinewidth\": 0, \"ticks\": \"\"}}, \"colorscale\": {\"diverging\": [[0, \"#8e0152\"], [0.1, \"#c51b7d\"], [0.2, \"#de77ae\"], [0.3, \"#f1b6da\"], [0.4, \"#fde0ef\"], [0.5, \"#f7f7f7\"], [0.6, \"#e6f5d0\"], [0.7, \"#b8e186\"], [0.8, \"#7fbc41\"], [0.9, \"#4d9221\"], [1, \"#276419\"]], \"sequential\": [[0.0, \"#0d0887\"], [0.1111111111111111, \"#46039f\"], [0.2222222222222222, \"#7201a8\"], [0.3333333333333333, \"#9c179e\"], [0.4444444444444444, \"#bd3786\"], [0.5555555555555556, \"#d8576b\"], [0.6666666666666666, \"#ed7953\"], [0.7777777777777778, \"#fb9f3a\"], [0.8888888888888888, \"#fdca26\"], [1.0, \"#f0f921\"]], \"sequentialminus\": [[0.0, \"#0d0887\"], [0.1111111111111111, \"#46039f\"], [0.2222222222222222, \"#7201a8\"], [0.3333333333333333, \"#9c179e\"], [0.4444444444444444, \"#bd3786\"], [0.5555555555555556, \"#d8576b\"], [0.6666666666666666, \"#ed7953\"], [0.7777777777777778, \"#fb9f3a\"], [0.8888888888888888, \"#fdca26\"], [1.0, \"#f0f921\"]]}, \"colorway\": [\"#636efa\", \"#EF553B\", \"#00cc96\", \"#ab63fa\", \"#FFA15A\", \"#19d3f3\", \"#FF6692\", \"#B6E880\", \"#FF97FF\", \"#FECB52\"], \"font\": {\"color\": \"#2a3f5f\"}, \"geo\": {\"bgcolor\": \"white\", \"lakecolor\": \"white\", \"landcolor\": \"#E5ECF6\", \"showlakes\": true, \"showland\": true, \"subunitcolor\": \"white\"}, \"hoverlabel\": {\"align\": \"left\"}, \"hovermode\": \"closest\", \"mapbox\": {\"style\": \"light\"}, \"paper_bgcolor\": \"white\", \"plot_bgcolor\": \"#E5ECF6\", \"polar\": {\"angularaxis\": {\"gridcolor\": \"white\", \"linecolor\": \"white\", \"ticks\": \"\"}, \"bgcolor\": \"#E5ECF6\", \"radialaxis\": {\"gridcolor\": \"white\", \"linecolor\": \"white\", \"ticks\": \"\"}}, \"scene\": {\"xaxis\": {\"backgroundcolor\": \"#E5ECF6\", \"gridcolor\": \"white\", \"gridwidth\": 2, \"linecolor\": \"white\", \"showbackground\": true, \"ticks\": \"\", \"zerolinecolor\": \"white\"}, \"yaxis\": {\"backgroundcolor\": \"#E5ECF6\", \"gridcolor\": \"white\", \"gridwidth\": 2, \"linecolor\": \"white\", \"showbackground\": true, \"ticks\": \"\", \"zerolinecolor\": \"white\"}, \"zaxis\": {\"backgroundcolor\": \"#E5ECF6\", \"gridcolor\": \"white\", \"gridwidth\": 2, \"linecolor\": \"white\", \"showbackground\": true, \"ticks\": \"\", \"zerolinecolor\": \"white\"}}, \"shapedefaults\": {\"line\": {\"color\": \"#2a3f5f\"}}, \"ternary\": {\"aaxis\": {\"gridcolor\": \"white\", \"linecolor\": \"white\", \"ticks\": \"\"}, \"baxis\": {\"gridcolor\": \"white\", \"linecolor\": \"white\", \"ticks\": \"\"}, \"bgcolor\": \"#E5ECF6\", \"caxis\": {\"gridcolor\": \"white\", \"linecolor\": \"white\", \"ticks\": \"\"}}, \"title\": {\"x\": 0.05}, \"xaxis\": {\"automargin\": true, \"gridcolor\": \"white\", \"linecolor\": \"white\", \"ticks\": \"\", \"title\": {\"standoff\": 15}, \"zerolinecolor\": \"white\", \"zerolinewidth\": 2}, \"yaxis\": {\"automargin\": true, \"gridcolor\": \"white\", \"linecolor\": \"white\", \"ticks\": \"\", \"title\": {\"standoff\": 15}, \"zerolinecolor\": \"white\", \"zerolinewidth\": 2}}}, \"title\": {\"text\": \"Keywords distribuation\"}, \"xaxis\": {\"title\": {\"text\": \"keyword\"}}, \"yaxis\": {\"title\": {\"text\": \"average score\"}}},\n",
              "                        {\"responsive\": true}\n",
              "                    ).then(function(){\n",
              "                            \n",
              "var gd = document.getElementById('bf0e5f71-0caa-4770-81e3-27ed2b1d0eab');\n",
              "var x = new MutationObserver(function (mutations, observer) {{\n",
              "        var display = window.getComputedStyle(gd).display;\n",
              "        if (!display || display === 'none') {{\n",
              "            console.log([gd, 'removed!']);\n",
              "            Plotly.purge(gd);\n",
              "            observer.disconnect();\n",
              "        }}\n",
              "}});\n",
              "\n",
              "// Listen for the removal of the full notebook cells\n",
              "var notebookContainer = gd.closest('#notebook-container');\n",
              "if (notebookContainer) {{\n",
              "    x.observe(notebookContainer, {childList: true});\n",
              "}}\n",
              "\n",
              "// Listen for the clearing of the current output cell\n",
              "var outputEl = gd.closest('.output');\n",
              "if (outputEl) {{\n",
              "    x.observe(outputEl, {childList: true});\n",
              "}}\n",
              "\n",
              "                        })\n",
              "                };\n",
              "                \n",
              "            </script>\n",
              "        </div>\n",
              "</body>\n",
              "</html>"
            ]
          },
          "metadata": {
            "tags": []
          }
        }
      ]
    },
    {
      "cell_type": "markdown",
      "metadata": {
        "id": "smtLIPyeb5C4"
      },
      "source": [
        "# **Group literature publications considering SE for AI**"
      ]
    },
    {
      "cell_type": "code",
      "metadata": {
        "id": "WmwrGVBC2A93",
        "colab": {
          "base_uri": "https://localhost:8080/",
          "height": 370
        },
        "outputId": "035aa820-619e-4b49-d8c0-647cb2bb0ad3"
      },
      "source": [
        "path = 'Our Collection - Publications.csv'\r\n",
        "\r\n",
        "data = pd.read_csv(path, sep=';', encoding='unicode_escape')\r\n",
        "data['number of cited by'] = data['number of cited by'].apply(lambda x: float(x))"
      ],
      "execution_count": null,
      "outputs": [
        {
          "output_type": "error",
          "ename": "FileNotFoundError",
          "evalue": "ignored",
          "traceback": [
            "\u001b[0;31m---------------------------------------------------------------------------\u001b[0m",
            "\u001b[0;31mFileNotFoundError\u001b[0m                         Traceback (most recent call last)",
            "\u001b[0;32m<ipython-input-17-75b1ea8ebc31>\u001b[0m in \u001b[0;36m<module>\u001b[0;34m()\u001b[0m\n\u001b[1;32m      1\u001b[0m \u001b[0mpath\u001b[0m \u001b[0;34m=\u001b[0m \u001b[0;34m'Our Collection - Publications.csv'\u001b[0m\u001b[0;34m\u001b[0m\u001b[0;34m\u001b[0m\u001b[0m\n\u001b[1;32m      2\u001b[0m \u001b[0;34m\u001b[0m\u001b[0m\n\u001b[0;32m----> 3\u001b[0;31m \u001b[0mdata\u001b[0m \u001b[0;34m=\u001b[0m \u001b[0mpd\u001b[0m\u001b[0;34m.\u001b[0m\u001b[0mread_csv\u001b[0m\u001b[0;34m(\u001b[0m\u001b[0mpath\u001b[0m\u001b[0;34m,\u001b[0m \u001b[0msep\u001b[0m\u001b[0;34m=\u001b[0m\u001b[0;34m';'\u001b[0m\u001b[0;34m,\u001b[0m \u001b[0mencoding\u001b[0m\u001b[0;34m=\u001b[0m\u001b[0;34m'unicode_escape'\u001b[0m\u001b[0;34m)\u001b[0m\u001b[0;34m\u001b[0m\u001b[0;34m\u001b[0m\u001b[0m\n\u001b[0m\u001b[1;32m      4\u001b[0m \u001b[0mdata\u001b[0m\u001b[0;34m[\u001b[0m\u001b[0;34m'number of cited by'\u001b[0m\u001b[0;34m]\u001b[0m \u001b[0;34m=\u001b[0m \u001b[0mdata\u001b[0m\u001b[0;34m[\u001b[0m\u001b[0;34m'number of cited by'\u001b[0m\u001b[0;34m]\u001b[0m\u001b[0;34m.\u001b[0m\u001b[0mapply\u001b[0m\u001b[0;34m(\u001b[0m\u001b[0;32mlambda\u001b[0m \u001b[0mx\u001b[0m\u001b[0;34m:\u001b[0m \u001b[0mfloat\u001b[0m\u001b[0;34m(\u001b[0m\u001b[0mx\u001b[0m\u001b[0;34m)\u001b[0m\u001b[0;34m)\u001b[0m\u001b[0;34m\u001b[0m\u001b[0;34m\u001b[0m\u001b[0m\n",
            "\u001b[0;32m/usr/local/lib/python3.7/dist-packages/pandas/io/parsers.py\u001b[0m in \u001b[0;36mread_csv\u001b[0;34m(filepath_or_buffer, sep, delimiter, header, names, index_col, usecols, squeeze, prefix, mangle_dupe_cols, dtype, engine, converters, true_values, false_values, skipinitialspace, skiprows, skipfooter, nrows, na_values, keep_default_na, na_filter, verbose, skip_blank_lines, parse_dates, infer_datetime_format, keep_date_col, date_parser, dayfirst, cache_dates, iterator, chunksize, compression, thousands, decimal, lineterminator, quotechar, quoting, doublequote, escapechar, comment, encoding, dialect, error_bad_lines, warn_bad_lines, delim_whitespace, low_memory, memory_map, float_precision)\u001b[0m\n\u001b[1;32m    686\u001b[0m     )\n\u001b[1;32m    687\u001b[0m \u001b[0;34m\u001b[0m\u001b[0m\n\u001b[0;32m--> 688\u001b[0;31m     \u001b[0;32mreturn\u001b[0m \u001b[0m_read\u001b[0m\u001b[0;34m(\u001b[0m\u001b[0mfilepath_or_buffer\u001b[0m\u001b[0;34m,\u001b[0m \u001b[0mkwds\u001b[0m\u001b[0;34m)\u001b[0m\u001b[0;34m\u001b[0m\u001b[0;34m\u001b[0m\u001b[0m\n\u001b[0m\u001b[1;32m    689\u001b[0m \u001b[0;34m\u001b[0m\u001b[0m\n\u001b[1;32m    690\u001b[0m \u001b[0;34m\u001b[0m\u001b[0m\n",
            "\u001b[0;32m/usr/local/lib/python3.7/dist-packages/pandas/io/parsers.py\u001b[0m in \u001b[0;36m_read\u001b[0;34m(filepath_or_buffer, kwds)\u001b[0m\n\u001b[1;32m    452\u001b[0m \u001b[0;34m\u001b[0m\u001b[0m\n\u001b[1;32m    453\u001b[0m     \u001b[0;31m# Create the parser.\u001b[0m\u001b[0;34m\u001b[0m\u001b[0;34m\u001b[0m\u001b[0;34m\u001b[0m\u001b[0m\n\u001b[0;32m--> 454\u001b[0;31m     \u001b[0mparser\u001b[0m \u001b[0;34m=\u001b[0m \u001b[0mTextFileReader\u001b[0m\u001b[0;34m(\u001b[0m\u001b[0mfp_or_buf\u001b[0m\u001b[0;34m,\u001b[0m \u001b[0;34m**\u001b[0m\u001b[0mkwds\u001b[0m\u001b[0;34m)\u001b[0m\u001b[0;34m\u001b[0m\u001b[0;34m\u001b[0m\u001b[0m\n\u001b[0m\u001b[1;32m    455\u001b[0m \u001b[0;34m\u001b[0m\u001b[0m\n\u001b[1;32m    456\u001b[0m     \u001b[0;32mif\u001b[0m \u001b[0mchunksize\u001b[0m \u001b[0;32mor\u001b[0m \u001b[0miterator\u001b[0m\u001b[0;34m:\u001b[0m\u001b[0;34m\u001b[0m\u001b[0;34m\u001b[0m\u001b[0m\n",
            "\u001b[0;32m/usr/local/lib/python3.7/dist-packages/pandas/io/parsers.py\u001b[0m in \u001b[0;36m__init__\u001b[0;34m(self, f, engine, **kwds)\u001b[0m\n\u001b[1;32m    946\u001b[0m             \u001b[0mself\u001b[0m\u001b[0;34m.\u001b[0m\u001b[0moptions\u001b[0m\u001b[0;34m[\u001b[0m\u001b[0;34m\"has_index_names\"\u001b[0m\u001b[0;34m]\u001b[0m \u001b[0;34m=\u001b[0m \u001b[0mkwds\u001b[0m\u001b[0;34m[\u001b[0m\u001b[0;34m\"has_index_names\"\u001b[0m\u001b[0;34m]\u001b[0m\u001b[0;34m\u001b[0m\u001b[0;34m\u001b[0m\u001b[0m\n\u001b[1;32m    947\u001b[0m \u001b[0;34m\u001b[0m\u001b[0m\n\u001b[0;32m--> 948\u001b[0;31m         \u001b[0mself\u001b[0m\u001b[0;34m.\u001b[0m\u001b[0m_make_engine\u001b[0m\u001b[0;34m(\u001b[0m\u001b[0mself\u001b[0m\u001b[0;34m.\u001b[0m\u001b[0mengine\u001b[0m\u001b[0;34m)\u001b[0m\u001b[0;34m\u001b[0m\u001b[0;34m\u001b[0m\u001b[0m\n\u001b[0m\u001b[1;32m    949\u001b[0m \u001b[0;34m\u001b[0m\u001b[0m\n\u001b[1;32m    950\u001b[0m     \u001b[0;32mdef\u001b[0m \u001b[0mclose\u001b[0m\u001b[0;34m(\u001b[0m\u001b[0mself\u001b[0m\u001b[0;34m)\u001b[0m\u001b[0;34m:\u001b[0m\u001b[0;34m\u001b[0m\u001b[0;34m\u001b[0m\u001b[0m\n",
            "\u001b[0;32m/usr/local/lib/python3.7/dist-packages/pandas/io/parsers.py\u001b[0m in \u001b[0;36m_make_engine\u001b[0;34m(self, engine)\u001b[0m\n\u001b[1;32m   1178\u001b[0m     \u001b[0;32mdef\u001b[0m \u001b[0m_make_engine\u001b[0m\u001b[0;34m(\u001b[0m\u001b[0mself\u001b[0m\u001b[0;34m,\u001b[0m \u001b[0mengine\u001b[0m\u001b[0;34m=\u001b[0m\u001b[0;34m\"c\"\u001b[0m\u001b[0;34m)\u001b[0m\u001b[0;34m:\u001b[0m\u001b[0;34m\u001b[0m\u001b[0;34m\u001b[0m\u001b[0m\n\u001b[1;32m   1179\u001b[0m         \u001b[0;32mif\u001b[0m \u001b[0mengine\u001b[0m \u001b[0;34m==\u001b[0m \u001b[0;34m\"c\"\u001b[0m\u001b[0;34m:\u001b[0m\u001b[0;34m\u001b[0m\u001b[0;34m\u001b[0m\u001b[0m\n\u001b[0;32m-> 1180\u001b[0;31m             \u001b[0mself\u001b[0m\u001b[0;34m.\u001b[0m\u001b[0m_engine\u001b[0m \u001b[0;34m=\u001b[0m \u001b[0mCParserWrapper\u001b[0m\u001b[0;34m(\u001b[0m\u001b[0mself\u001b[0m\u001b[0;34m.\u001b[0m\u001b[0mf\u001b[0m\u001b[0;34m,\u001b[0m \u001b[0;34m**\u001b[0m\u001b[0mself\u001b[0m\u001b[0;34m.\u001b[0m\u001b[0moptions\u001b[0m\u001b[0;34m)\u001b[0m\u001b[0;34m\u001b[0m\u001b[0;34m\u001b[0m\u001b[0m\n\u001b[0m\u001b[1;32m   1181\u001b[0m         \u001b[0;32melse\u001b[0m\u001b[0;34m:\u001b[0m\u001b[0;34m\u001b[0m\u001b[0;34m\u001b[0m\u001b[0m\n\u001b[1;32m   1182\u001b[0m             \u001b[0;32mif\u001b[0m \u001b[0mengine\u001b[0m \u001b[0;34m==\u001b[0m \u001b[0;34m\"python\"\u001b[0m\u001b[0;34m:\u001b[0m\u001b[0;34m\u001b[0m\u001b[0;34m\u001b[0m\u001b[0m\n",
            "\u001b[0;32m/usr/local/lib/python3.7/dist-packages/pandas/io/parsers.py\u001b[0m in \u001b[0;36m__init__\u001b[0;34m(self, src, **kwds)\u001b[0m\n\u001b[1;32m   1991\u001b[0m         \u001b[0;32mif\u001b[0m \u001b[0mkwds\u001b[0m\u001b[0;34m.\u001b[0m\u001b[0mget\u001b[0m\u001b[0;34m(\u001b[0m\u001b[0;34m\"compression\"\u001b[0m\u001b[0;34m)\u001b[0m \u001b[0;32mis\u001b[0m \u001b[0;32mNone\u001b[0m \u001b[0;32mand\u001b[0m \u001b[0mencoding\u001b[0m\u001b[0;34m:\u001b[0m\u001b[0;34m\u001b[0m\u001b[0;34m\u001b[0m\u001b[0m\n\u001b[1;32m   1992\u001b[0m             \u001b[0;32mif\u001b[0m \u001b[0misinstance\u001b[0m\u001b[0;34m(\u001b[0m\u001b[0msrc\u001b[0m\u001b[0;34m,\u001b[0m \u001b[0mstr\u001b[0m\u001b[0;34m)\u001b[0m\u001b[0;34m:\u001b[0m\u001b[0;34m\u001b[0m\u001b[0;34m\u001b[0m\u001b[0m\n\u001b[0;32m-> 1993\u001b[0;31m                 \u001b[0msrc\u001b[0m \u001b[0;34m=\u001b[0m \u001b[0mopen\u001b[0m\u001b[0;34m(\u001b[0m\u001b[0msrc\u001b[0m\u001b[0;34m,\u001b[0m \u001b[0;34m\"rb\"\u001b[0m\u001b[0;34m)\u001b[0m\u001b[0;34m\u001b[0m\u001b[0;34m\u001b[0m\u001b[0m\n\u001b[0m\u001b[1;32m   1994\u001b[0m                 \u001b[0mself\u001b[0m\u001b[0;34m.\u001b[0m\u001b[0mhandles\u001b[0m\u001b[0;34m.\u001b[0m\u001b[0mappend\u001b[0m\u001b[0;34m(\u001b[0m\u001b[0msrc\u001b[0m\u001b[0;34m)\u001b[0m\u001b[0;34m\u001b[0m\u001b[0;34m\u001b[0m\u001b[0m\n\u001b[1;32m   1995\u001b[0m \u001b[0;34m\u001b[0m\u001b[0m\n",
            "\u001b[0;31mFileNotFoundError\u001b[0m: [Errno 2] No such file or directory: 'Our Collection - Publications.csv'"
          ]
        }
      ]
    },
    {
      "cell_type": "code",
      "metadata": {
        "id": "5TfLQzji6CQG"
      },
      "source": [
        "df_year = pd.DataFrame(index=data['year'])\r\n",
        "df_year.dropna(inplace=True)"
      ],
      "execution_count": null,
      "outputs": []
    },
    {
      "cell_type": "code",
      "metadata": {
        "id": "CXAB-ec4_YMV"
      },
      "source": [
        "cited_by = data.groupby(['year']).mean().reset_index()"
      ],
      "execution_count": null,
      "outputs": []
    },
    {
      "cell_type": "code",
      "metadata": {
        "colab": {
          "base_uri": "https://localhost:8080/",
          "height": 282
        },
        "id": "kHP6FMd6A0tO",
        "outputId": "6b56a6cc-b37d-4af0-c0a9-6faeec22e04a"
      },
      "source": [
        "fig = plt.figure()\r\n",
        "ax = plt.axes()\r\n",
        "\r\n",
        "ax.plot(cited_by.year, cited_by['number of ref'], label='Number of references')\r\n",
        "ax.plot(cited_by.year, cited_by['number of cited by'], label='Number of Cited By references')"
      ],
      "execution_count": null,
      "outputs": [
        {
          "output_type": "execute_result",
          "data": {
            "text/plain": [
              "[<matplotlib.lines.Line2D at 0x7face017b9d0>]"
            ]
          },
          "metadata": {
            "tags": []
          },
          "execution_count": 49
        },
        {
          "output_type": "display_data",
          "data": {
            "image/png": "[encoded data removed]",
            "text/plain": [
              "<Figure size 432x288 with 1 Axes>"
            ]
          },
          "metadata": {
            "tags": [],
            "needs_background": "light"
          }
        }
      ]
    },
    {
      "cell_type": "code",
      "metadata": {
        "id": "nNnvNgjTyfHc"
      },
      "source": [
        "group_year = data['year'].groupby(data.year).agg('count')\r\n",
        "df_year = pd.DataFrame(data=group_year)\r\n",
        "df_year.rename(columns = {'year':'number'}, inplace = True)"
      ],
      "execution_count": null,
      "outputs": []
    },
    {
      "cell_type": "code",
      "metadata": {
        "id": "uItUIbsr8PaT"
      },
      "source": [
        "df_year['average'] = df_year['number'].rolling(window=3).mean()"
      ],
      "execution_count": null,
      "outputs": []
    },
    {
      "cell_type": "code",
      "metadata": {
        "colab": {
          "base_uri": "https://localhost:8080/",
          "height": 1000
        },
        "id": "1p5uYIh4_Vq9",
        "outputId": "e9763787-9f6f-423e-bc3f-6d39e7f599ee"
      },
      "source": [
        "df_year"
      ],
      "execution_count": null,
      "outputs": [
        {
          "output_type": "execute_result",
          "data": {
            "text/html": [
              "<div>\n",
              "<style scoped>\n",
              "    .dataframe tbody tr th:only-of-type {\n",
              "        vertical-align: middle;\n",
              "    }\n",
              "\n",
              "    .dataframe tbody tr th {\n",
              "        vertical-align: top;\n",
              "    }\n",
              "\n",
              "    .dataframe thead th {\n",
              "        text-align: right;\n",
              "    }\n",
              "</style>\n",
              "<table border=\"1\" class=\"dataframe\">\n",
              "  <thead>\n",
              "    <tr style=\"text-align: right;\">\n",
              "      <th></th>\n",
              "      <th>number</th>\n",
              "      <th>average</th>\n",
              "    </tr>\n",
              "    <tr>\n",
              "      <th>year</th>\n",
              "      <th></th>\n",
              "      <th></th>\n",
              "    </tr>\n",
              "  </thead>\n",
              "  <tbody>\n",
              "    <tr>\n",
              "      <th>1984</th>\n",
              "      <td>2</td>\n",
              "      <td>NaN</td>\n",
              "    </tr>\n",
              "    <tr>\n",
              "      <th>1985</th>\n",
              "      <td>1</td>\n",
              "      <td>NaN</td>\n",
              "    </tr>\n",
              "    <tr>\n",
              "      <th>1986</th>\n",
              "      <td>3</td>\n",
              "      <td>2.000000</td>\n",
              "    </tr>\n",
              "    <tr>\n",
              "      <th>1987</th>\n",
              "      <td>3</td>\n",
              "      <td>2.333333</td>\n",
              "    </tr>\n",
              "    <tr>\n",
              "      <th>1988</th>\n",
              "      <td>1</td>\n",
              "      <td>2.333333</td>\n",
              "    </tr>\n",
              "    <tr>\n",
              "      <th>1989</th>\n",
              "      <td>3</td>\n",
              "      <td>2.333333</td>\n",
              "    </tr>\n",
              "    <tr>\n",
              "      <th>1990</th>\n",
              "      <td>3</td>\n",
              "      <td>2.333333</td>\n",
              "    </tr>\n",
              "    <tr>\n",
              "      <th>1991</th>\n",
              "      <td>1</td>\n",
              "      <td>2.333333</td>\n",
              "    </tr>\n",
              "    <tr>\n",
              "      <th>1992</th>\n",
              "      <td>4</td>\n",
              "      <td>2.666667</td>\n",
              "    </tr>\n",
              "    <tr>\n",
              "      <th>1993</th>\n",
              "      <td>1</td>\n",
              "      <td>2.000000</td>\n",
              "    </tr>\n",
              "    <tr>\n",
              "      <th>1994</th>\n",
              "      <td>3</td>\n",
              "      <td>2.666667</td>\n",
              "    </tr>\n",
              "    <tr>\n",
              "      <th>1995</th>\n",
              "      <td>2</td>\n",
              "      <td>2.000000</td>\n",
              "    </tr>\n",
              "    <tr>\n",
              "      <th>1996</th>\n",
              "      <td>5</td>\n",
              "      <td>3.333333</td>\n",
              "    </tr>\n",
              "    <tr>\n",
              "      <th>1997</th>\n",
              "      <td>1</td>\n",
              "      <td>2.666667</td>\n",
              "    </tr>\n",
              "    <tr>\n",
              "      <th>1998</th>\n",
              "      <td>1</td>\n",
              "      <td>2.333333</td>\n",
              "    </tr>\n",
              "    <tr>\n",
              "      <th>1999</th>\n",
              "      <td>4</td>\n",
              "      <td>2.000000</td>\n",
              "    </tr>\n",
              "    <tr>\n",
              "      <th>2000</th>\n",
              "      <td>2</td>\n",
              "      <td>2.333333</td>\n",
              "    </tr>\n",
              "    <tr>\n",
              "      <th>2001</th>\n",
              "      <td>1</td>\n",
              "      <td>2.333333</td>\n",
              "    </tr>\n",
              "    <tr>\n",
              "      <th>2002</th>\n",
              "      <td>1</td>\n",
              "      <td>1.333333</td>\n",
              "    </tr>\n",
              "    <tr>\n",
              "      <th>2003</th>\n",
              "      <td>2</td>\n",
              "      <td>1.333333</td>\n",
              "    </tr>\n",
              "    <tr>\n",
              "      <th>2004</th>\n",
              "      <td>1</td>\n",
              "      <td>1.333333</td>\n",
              "    </tr>\n",
              "    <tr>\n",
              "      <th>2005</th>\n",
              "      <td>2</td>\n",
              "      <td>1.666667</td>\n",
              "    </tr>\n",
              "    <tr>\n",
              "      <th>2006</th>\n",
              "      <td>1</td>\n",
              "      <td>1.333333</td>\n",
              "    </tr>\n",
              "    <tr>\n",
              "      <th>2007</th>\n",
              "      <td>4</td>\n",
              "      <td>2.333333</td>\n",
              "    </tr>\n",
              "    <tr>\n",
              "      <th>2008</th>\n",
              "      <td>1</td>\n",
              "      <td>2.000000</td>\n",
              "    </tr>\n",
              "    <tr>\n",
              "      <th>2009</th>\n",
              "      <td>4</td>\n",
              "      <td>3.000000</td>\n",
              "    </tr>\n",
              "    <tr>\n",
              "      <th>2010</th>\n",
              "      <td>3</td>\n",
              "      <td>2.666667</td>\n",
              "    </tr>\n",
              "    <tr>\n",
              "      <th>2011</th>\n",
              "      <td>1</td>\n",
              "      <td>2.666667</td>\n",
              "    </tr>\n",
              "    <tr>\n",
              "      <th>2012</th>\n",
              "      <td>1</td>\n",
              "      <td>1.666667</td>\n",
              "    </tr>\n",
              "    <tr>\n",
              "      <th>2013</th>\n",
              "      <td>2</td>\n",
              "      <td>1.333333</td>\n",
              "    </tr>\n",
              "    <tr>\n",
              "      <th>2014</th>\n",
              "      <td>1</td>\n",
              "      <td>1.333333</td>\n",
              "    </tr>\n",
              "    <tr>\n",
              "      <th>2015</th>\n",
              "      <td>1</td>\n",
              "      <td>1.333333</td>\n",
              "    </tr>\n",
              "    <tr>\n",
              "      <th>2016</th>\n",
              "      <td>2</td>\n",
              "      <td>1.333333</td>\n",
              "    </tr>\n",
              "    <tr>\n",
              "      <th>2018</th>\n",
              "      <td>8</td>\n",
              "      <td>3.666667</td>\n",
              "    </tr>\n",
              "    <tr>\n",
              "      <th>2019</th>\n",
              "      <td>19</td>\n",
              "      <td>9.666667</td>\n",
              "    </tr>\n",
              "    <tr>\n",
              "      <th>2020</th>\n",
              "      <td>22</td>\n",
              "      <td>16.333333</td>\n",
              "    </tr>\n",
              "    <tr>\n",
              "      <th>2021</th>\n",
              "      <td>6</td>\n",
              "      <td>15.666667</td>\n",
              "    </tr>\n",
              "  </tbody>\n",
              "</table>\n",
              "</div>"
            ],
            "text/plain": [
              "      number    average\n",
              "year                   \n",
              "1984       2        NaN\n",
              "1985       1        NaN\n",
              "1986       3   2.000000\n",
              "1987       3   2.333333\n",
              "1988       1   2.333333\n",
              "1989       3   2.333333\n",
              "1990       3   2.333333\n",
              "1991       1   2.333333\n",
              "1992       4   2.666667\n",
              "1993       1   2.000000\n",
              "1994       3   2.666667\n",
              "1995       2   2.000000\n",
              "1996       5   3.333333\n",
              "1997       1   2.666667\n",
              "1998       1   2.333333\n",
              "1999       4   2.000000\n",
              "2000       2   2.333333\n",
              "2001       1   2.333333\n",
              "2002       1   1.333333\n",
              "2003       2   1.333333\n",
              "2004       1   1.333333\n",
              "2005       2   1.666667\n",
              "2006       1   1.333333\n",
              "2007       4   2.333333\n",
              "2008       1   2.000000\n",
              "2009       4   3.000000\n",
              "2010       3   2.666667\n",
              "2011       1   2.666667\n",
              "2012       1   1.666667\n",
              "2013       2   1.333333\n",
              "2014       1   1.333333\n",
              "2015       1   1.333333\n",
              "2016       2   1.333333\n",
              "2018       8   3.666667\n",
              "2019      19   9.666667\n",
              "2020      22  16.333333\n",
              "2021       6  15.666667"
            ]
          },
          "metadata": {
            "tags": []
          },
          "execution_count": 46
        }
      ]
    },
    {
      "cell_type": "code",
      "metadata": {
        "id": "MOjVC_w6u9Pd",
        "colab": {
          "base_uri": "https://localhost:8080/",
          "height": 350
        },
        "outputId": "c3efbd0d-2043-4f96-9a4b-a8e799b2a80b"
      },
      "source": [
        "fig, ax1 = plt.subplots(figsize=(10,5))\r\n",
        "ax2 = ax1.twinx()\r\n",
        "\r\n",
        "ax1.bar(df_year.index, df_year.number, label='Number of publications', color='b')\r\n",
        "#ax1.plot(df_year.index, df_year.average, label='Average number of publications')\r\n",
        "ax2.plot(cited_by.year, cited_by['number of cited by'], label='Forward', color='g')\r\n",
        "ax2.plot(cited_by.year, cited_by['number of ref'], label='Backward', color='r')\r\n",
        "ax1.set(title='Literature publications considering SE for AI')\r\n",
        "\r\n",
        "ax1.set_xlabel('year of publication')\r\n",
        "ax1.set_ylabel('number of publications', color='b')\r\n",
        "ax2.set_ylabel('average number of references')\r\n",
        "\r\n",
        "# plt.gca().spines['top'].set_visible(False)\r\n",
        "# plt.gca().spines['right'].set_visible(False)\r\n",
        "\r\n",
        "ax2.legend(loc='upper left')\r\n",
        "ax1.grid()"
      ],
      "execution_count": null,
      "outputs": [
        {
          "output_type": "display_data",
          "data": {
            "image/png": "[encoded data removed]",
            "text/plain": [
              "<Figure size 720x360 with 2 Axes>"
            ]
          },
          "metadata": {
            "tags": [],
            "needs_background": "light"
          }
        }
      ]
    },
    {
      "cell_type": "code",
      "metadata": {
        "id": "tNWXcO0mAIyx"
      },
      "source": [
        "fig.savefig(\"Number of publications.png\")"
      ],
      "execution_count": null,
      "outputs": []
    },
    {
      "cell_type": "code",
      "metadata": {
        "id": "0jkKO4IiurMf"
      },
      "source": [
        "final_data.to_csv('Master Collection.csv', index=False, sep=';', encoding='utf-8')"
      ],
      "execution_count": null,
      "outputs": []
    },
    {
      "cell_type": "markdown",
      "metadata": {
        "id": "n6TzvmbqbYes"
      },
      "source": [
        "# **spaCy script to generate keywords**"
      ]
    },
    {
      "cell_type": "code",
      "metadata": {
        "id": "LAUJkfOtbce-"
      },
      "source": [
        "nlp = spacy.load('en_core_web_sm')\r\n",
        "nlp.add_pipe(TermExtractionPipeline())\r\n",
        "data=pd.read_csv(\"Our Publications.csv\",delimiter=';')\r\n",
        "finaldata=pd.DataFrame([['Test',2],['test',2]],columns=list('AB'))"
      ],
      "execution_count": null,
      "outputs": []
    },
    {
      "cell_type": "code",
      "metadata": {
        "id": "zRGanDKvbpOA"
      },
      "source": [
        "for index,row in data.iterrows():\r\n",
        "    string = row['abstract']\r\n",
        "    doc = nlp(string)\r\n",
        "    print(row['title'])\r\n",
        "    print(doc._.combo_basic.sort_values(ascending=False).head(5))\r\n",
        "    with open('Testzwecke.csv','a+',newline='')as csvfile:\r\n",
        "        csv_writer=writer(csvfile)\r\n",
        "        csv_writer.writerow([row['title'],doc._.combo_basic.sort_values(ascending=False).head(5)])"
      ],
      "execution_count": null,
      "outputs": []
    },
    {
      "cell_type": "markdown",
      "metadata": {
        "id": "AQDYg_JXtrB-"
      },
      "source": [
        "# **Use this code to convert .bib into .csv and drop duplicates**"
      ]
    },
    {
      "cell_type": "code",
      "metadata": {
        "id": "JEuRrJsLUsAO"
      },
      "source": [
        "pip install bibtexparser"
      ],
      "execution_count": null,
      "outputs": []
    },
    {
      "cell_type": "code",
      "metadata": {
        "id": "fiHml8a-VR2q"
      },
      "source": [
        "# Change .bib and .csv for your case\r\n",
        "# Method used to transform bib to csv\r\n",
        "\r\n",
        "import bibtexparser\r\n",
        "\r\n",
        "with open('My Collection.bib') as bibtex_file:\r\n",
        "  bib_database = bibtexparser.load(bibtex_file)\r\n",
        "df = pd.DataFrame(bib_database.entries)\r\n",
        "df.to_csv('My Collection.csv', index=False, sep=';', encoding='utf-8')"
      ],
      "execution_count": null,
      "outputs": []
    },
    {
      "cell_type": "code",
      "metadata": {
        "id": "eKbzxw7IGoCQ"
      },
      "source": [
        "# Clean .csv by deleting dublicates and unnecessary strings\r\n",
        "\r\n",
        "data['title'] = data['title'].str.replace(\"{\", \"\")\r\n",
        "data['title'] = data['title'].str.replace(\"}\", \"\")\r\n",
        "\r\n",
        "data['doi'] = data['doi'].str.replace(\"https://doi.org/\", \"\")\r\n",
        "data['doi'] = data['doi'].str.replace(\"https://citeseerx.ist.psu.edu/viewdoc/download?\", \"\")\r\n",
        "data['doi'] = data['doi'].str.replace(\"https://arxiv.org/abs/\", \"\")\r\n",
        "data['doi'] = data['doi'].str.replace(\"https://apps.dtic.mil/sti/citations/\", \"\")\r\n",
        "\r\n",
        "data['NR.'] = pd.to_numeric(data['NR.'], downcast='integer')\r\n",
        "final_data = data.drop_duplicates(subset=['title'])\r\n",
        "final_data = data.drop_duplicates(subset=['doi'])"
      ],
      "execution_count": null,
      "outputs": []
    }
  ]
}